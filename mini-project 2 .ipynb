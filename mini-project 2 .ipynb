{
 "cells": [
  {
   "cell_type": "code",
   "execution_count": 1,
   "metadata": {},
   "outputs": [],
   "source": [
    "from bs4 import BeautifulSoup\n",
    "from selenium import webdriver\n",
    "import pandas as pd\n",
    "import requests\n",
    "import json\n",
    "import re"
   ]
  },
  {
   "cell_type": "code",
   "execution_count": 85,
   "metadata": {},
   "outputs": [],
   "source": [
    "import matplotlib.pyplot as plt"
   ]
  },
  {
   "cell_type": "code",
   "execution_count": 2,
   "metadata": {},
   "outputs": [],
   "source": [
    "#Adding user agent can prevent us from being blocked by Amazon while scraping the data \n",
    "#Reference: https://www.geeksforgeeks.org/scraping-amazon-product-information-using-beautiful-soup/\n",
    "HEADERS = ({'User-Agent':\n",
    "            'Mozilla/5.0 (X11; Linux x86_64) AppleWebKit/537.36 (KHTML, like Gecko) Chrome/44.0.2403.157 Safari/537.36',\n",
    "             'Accept-Language': 'en-US, en;q=0.5'})\n",
    "# timescale \n",
    "year = list(range(2011,2022))"
   ]
  },
  {
   "cell_type": "code",
   "execution_count": 17,
   "metadata": {},
   "outputs": [],
   "source": [
    "r = requests.get('https://www.barnesandnoble.com/b/books/awards/best-books-of-the-year/_/N-29Z8q8Z1qrh', headers=HEADERS)\n",
    "soup = BeautifulSoup(r.content, \"html\")\n",
    "content = soup.find_all('a', class_ =\"bread-crumbs__item\")"
   ]
  },
  {
   "cell_type": "code",
   "execution_count": 18,
   "metadata": {},
   "outputs": [
    {
     "data": {
      "text/plain": [
       "[<a class=\"bread-crumbs__item\" href=\"/b/books/best-books-of-the-year/best-books-of-the-year-2002/_/N-29Z8q8Z1qri;jsessionid=524ACA898E848192811549138E1FA384.prodny_store01-atgap13\" rel=\"\">Best Books of the Year 2002</a>,\n",
       " <a class=\"bread-crumbs__item\" href=\"/b/books/best-books-of-the-year/best-books-of-the-year-2003/_/N-29Z8q8Z1qu7;jsessionid=524ACA898E848192811549138E1FA384.prodny_store01-atgap13\" rel=\"\">Best Books of the Year 2003</a>,\n",
       " <a class=\"bread-crumbs__item\" href=\"/b/books/best-books-of-the-year/best-books-of-the-year-2004/_/N-29Z8q8Z1qvd;jsessionid=524ACA898E848192811549138E1FA384.prodny_store01-atgap13\" rel=\"\">Best Books of the Year 2004</a>,\n",
       " <a class=\"bread-crumbs__item\" href=\"/b/books/best-books-of-the-year/best-books-of-the-year-2005/_/N-29Z8q8Z1qwm;jsessionid=524ACA898E848192811549138E1FA384.prodny_store01-atgap13\" rel=\"\">Best Books of the Year 2005</a>,\n",
       " <a class=\"bread-crumbs__item\" href=\"/b/books/best-books-of-the-year/best-books-of-the-year-2006/_/N-29Z8q8Z1qy6;jsessionid=524ACA898E848192811549138E1FA384.prodny_store01-atgap13\" rel=\"\">Best Books of the Year 2006</a>,\n",
       " <a class=\"bread-crumbs__item\" href=\"/b/books/best-books-of-the-year/best-books-of-the-year-2007/_/N-29Z8q8Z1r0d;jsessionid=524ACA898E848192811549138E1FA384.prodny_store01-atgap13\" rel=\"\">Best Books of the Year 2007</a>,\n",
       " <a class=\"bread-crumbs__item\" href=\"/b/books/best-books-of-the-year/best-books-of-the-year-2008/_/N-29Z8q8Z1r35;jsessionid=524ACA898E848192811549138E1FA384.prodny_store01-atgap13\" rel=\"\">Best Books of the Year 2008</a>,\n",
       " <a class=\"bread-crumbs__item\" href=\"/b/books/best-books-of-the-year/best-books-of-the-year-2009/_/N-29Z8q8Z1r6a;jsessionid=524ACA898E848192811549138E1FA384.prodny_store01-atgap13\" rel=\"\">Best Books of the Year 2009</a>,\n",
       " <a class=\"bread-crumbs__item\" href=\"/b/books/best-books-of-the-year/best-books-of-the-year-2010/_/N-29Z8q8Z1r93;jsessionid=524ACA898E848192811549138E1FA384.prodny_store01-atgap13\" rel=\"\">Best Books of the Year 2010</a>,\n",
       " <a class=\"bread-crumbs__item\" href=\"/b/books/best-books-of-the-year/best-books-of-the-year-2011/_/N-29Z8q8Z1rc1;jsessionid=524ACA898E848192811549138E1FA384.prodny_store01-atgap13\" rel=\"\">Best Books of the Year 2011</a>,\n",
       " <a class=\"bread-crumbs__item\" href=\"/b/books/best-books-of-the-year/best-books-of-the-year-2012/_/N-29Z8q8Z1rei;jsessionid=524ACA898E848192811549138E1FA384.prodny_store01-atgap13\" rel=\"\">Best Books of the Year 2012</a>,\n",
       " <a class=\"bread-crumbs__item\" href=\"/b/books/best-books-of-the-year/best-books-of-the-year-2013/_/N-29Z8q8Z1rgr;jsessionid=524ACA898E848192811549138E1FA384.prodny_store01-atgap13\" rel=\"\">Best Books of the Year 2013</a>,\n",
       " <a class=\"bread-crumbs__item\" href=\"/b/books/best-books-of-the-year/best-books-of-the-year-2014/_/N-29Z8q8Z1rjg;jsessionid=524ACA898E848192811549138E1FA384.prodny_store01-atgap13\" rel=\"\">Best Books of the Year 2014</a>,\n",
       " <a class=\"bread-crumbs__item\" href=\"/b/books/best-books-of-the-year/best-books-of-the-year-2015/_/N-29Z8q8Z2gjb;jsessionid=524ACA898E848192811549138E1FA384.prodny_store01-atgap13\" rel=\"\">Best Books of the Year 2015</a>,\n",
       " <a class=\"bread-crumbs__item\" href=\"/b/books/best-books-of-the-year/best-books-of-the-year-2016/_/N-29Z8q8Z2l2g;jsessionid=524ACA898E848192811549138E1FA384.prodny_store01-atgap13\" rel=\"\">Best Books of the Year 2016</a>,\n",
       " <a class=\"bread-crumbs__item\" href=\"/b/books/best-books-of-the-year/best-books-of-the-year-2017/_/N-29Z8q8Z2odt;jsessionid=524ACA898E848192811549138E1FA384.prodny_store01-atgap13\" rel=\"\">Best Books of the Year 2017</a>,\n",
       " <a class=\"bread-crumbs__item\" href=\"/b/books/best-books-of-the-year/best-books-of-the-year-2018/_/N-29Z8q8Z2rt3;jsessionid=524ACA898E848192811549138E1FA384.prodny_store01-atgap13\" rel=\"\">Best Books of the Year 2018</a>,\n",
       " <a class=\"bread-crumbs__item\" href=\"/b/books/best-books-of-the-year/best-books-of-the-year-2019/_/N-29Z8q8Z2tng;jsessionid=524ACA898E848192811549138E1FA384.prodny_store01-atgap13\" rel=\"\">Best Books of the Year 2019</a>,\n",
       " <a class=\"bread-crumbs__item\" href=\"/b/books/best-books-of-the-year/best-books-of-the-year-2020/_/N-29Z8q8Z2v09;jsessionid=524ACA898E848192811549138E1FA384.prodny_store01-atgap13\" rel=\"\">Best Books of the Year 2020</a>,\n",
       " <a class=\"bread-crumbs__item\" href=\"/b/books/best-books-of-the-year/best-books-of-the-year-2021/_/N-29Z8q8Z2w2f;jsessionid=524ACA898E848192811549138E1FA384.prodny_store01-atgap13\" rel=\"\">Best Books of the Year 2021</a>,\n",
       " <a class=\"bread-crumbs__item\" href=\"/b/books/awards/best-books-of-the-year/_/N-cZ29Z8q8Z1qrh;jsessionid=524ACA898E848192811549138E1FA384.prodny_store01-atgap13\" rel=\"nofollow\">Under $5</a>,\n",
       " <a class=\"bread-crumbs__item\" href=\"/b/books/awards/best-books-of-the-year/_/N-3Z29Z8q8Z1qrh;jsessionid=524ACA898E848192811549138E1FA384.prodny_store01-atgap13\" rel=\"nofollow\">$5 - $10</a>,\n",
       " <a class=\"bread-crumbs__item\" href=\"/b/books/awards/best-books-of-the-year/_/N-4Z29Z8q8Z1qrh;jsessionid=524ACA898E848192811549138E1FA384.prodny_store01-atgap13\" rel=\"nofollow\">$10 - $25</a>,\n",
       " <a class=\"bread-crumbs__item\" href=\"/b/books/awards/best-books-of-the-year/_/N-5Z29Z8q8Z1qrh;jsessionid=524ACA898E848192811549138E1FA384.prodny_store01-atgap13\" rel=\"nofollow\">$25 - $50</a>,\n",
       " <a class=\"bread-crumbs__item\" href=\"/b/books/awards/best-books-of-the-year/_/N-6Z29Z8q8Z1qrh;jsessionid=524ACA898E848192811549138E1FA384.prodny_store01-atgap13\" rel=\"nofollow\">Over $50</a>,\n",
       " <a class=\"bread-crumbs__item\" href=\"/b/books/awards/best-books-of-the-year/_/N-1z13q39Z29Z8q8Z1qrh;jsessionid=524ACA898E848192811549138E1FA384.prodny_store01-atgap13\" rel=\"nofollow\">NOOK Book</a>,\n",
       " <a class=\"bread-crumbs__item\" href=\"/b/books/awards/best-books-of-the-year/_/N-1z141tjZ29Z8q8Z1qrh;jsessionid=524ACA898E848192811549138E1FA384.prodny_store01-atgap13\" rel=\"nofollow\">Paperback</a>,\n",
       " <a class=\"bread-crumbs__item\" href=\"/b/books/awards/best-books-of-the-year/_/N-1z141jfZ29Z8q8Z1qrh;jsessionid=524ACA898E848192811549138E1FA384.prodny_store01-atgap13\" rel=\"nofollow\">Hardcover</a>,\n",
       " <a class=\"bread-crumbs__item\" href=\"/b/books/awards/best-books-of-the-year/_/N-1z13op7Z29Z8q8Z1qrh;jsessionid=524ACA898E848192811549138E1FA384.prodny_store01-atgap13\" rel=\"nofollow\">Large Print</a>,\n",
       " <a class=\"bread-crumbs__item\" href=\"/b/books/awards/best-books-of-the-year/_/N-1z13w9tZ29Z8q8Z1qrh;jsessionid=524ACA898E848192811549138E1FA384.prodny_store01-atgap13\" rel=\"nofollow\">Audio CD</a>,\n",
       " <a class=\"bread-crumbs__item\" href=\"/b/books/awards/best-books-of-the-year/_/N-1z0zv7jZ29Z8q8Z1qrh;jsessionid=524ACA898E848192811549138E1FA384.prodny_store01-atgap13\" rel=\"nofollow\">Audio MP3 on CD</a>,\n",
       " <a class=\"bread-crumbs__item\" href=\"/b/books/awards/best-books-of-the-year/_/N-1z0zta0Z29Z8q8Z1qrh;jsessionid=524ACA898E848192811549138E1FA384.prodny_store01-atgap13\" rel=\"nofollow\">Signed Book</a>,\n",
       " <a class=\"bread-crumbs__item\" href=\"/b/books/awards/best-books-of-the-year/_/N-1z141wcZ29Z8q8Z1qrh;jsessionid=524ACA898E848192811549138E1FA384.prodny_store01-atgap13\" rel=\"nofollow\">Other Format</a>,\n",
       " <a class=\"bread-crumbs__item\" href=\"/b/books/awards/best-books-of-the-year/_/N-1z13ximZ29Z8q8Z1qrh;jsessionid=524ACA898E848192811549138E1FA384.prodny_store01-atgap13\" rel=\"nofollow\">Multimedia</a>,\n",
       " <a class=\"bread-crumbs__item\" href=\"/b/books/awards/best-books-of-the-year/_/N-1z13u22Z29Z8q8Z1qrh;jsessionid=524ACA898E848192811549138E1FA384.prodny_store01-atgap13\" rel=\"nofollow\">Audio Other</a>,\n",
       " <a class=\"bread-crumbs__item\" href=\"/b/books/awards/best-books-of-the-year/_/N-1z0zv7gZ29Z8q8Z1qrh;jsessionid=524ACA898E848192811549138E1FA384.prodny_store01-atgap13\" rel=\"nofollow\">Board Book</a>,\n",
       " <a class=\"bread-crumbs__item\" href=\"/b/books/awards/best-books-of-the-year/_/N-1z0zu85Z29Z8q8Z1qrh;jsessionid=524ACA898E848192811549138E1FA384.prodny_store01-atgap13\" rel=\"nofollow\">BN Exclusive</a>,\n",
       " <a class=\"bread-crumbs__item\" href=\"/b/books/awards/best-books-of-the-year/_/N-1z0zrqnZ29Z8q8Z1qrh;jsessionid=524ACA898E848192811549138E1FA384.prodny_store01-atgap13\" rel=\"nofollow\">Pop Up Book</a>,\n",
       " <a class=\"bread-crumbs__item\" href=\"/b/books/awards/best-books-of-the-year/_/N-1z0zrqmZ29Z8q8Z1qrh;jsessionid=524ACA898E848192811549138E1FA384.prodny_store01-atgap13\" rel=\"nofollow\">Bath Book</a>,\n",
       " <a class=\"bread-crumbs__item\" href=\"/b/books/awards/best-books-of-the-year/_/N-1z0zrj6Z29Z8q8Z1qrh;jsessionid=524ACA898E848192811549138E1FA384.prodny_store01-atgap13\" rel=\"nofollow\">BN Exclusive Edition</a>,\n",
       " <a class=\"bread-crumbs__item\" href=\"/b/books/awards/best-books-of-the-year/_/N-7Z29Z8q8Z1qrh;jsessionid=524ACA898E848192811549138E1FA384.prodny_store01-atgap13\" rel=\"\">0 - 2 Years</a>,\n",
       " <a class=\"bread-crumbs__item\" href=\"/b/books/awards/best-books-of-the-year/_/N-8Z29Z8q8Z1qrh;jsessionid=524ACA898E848192811549138E1FA384.prodny_store01-atgap13\" rel=\"\">3 - 5 Years</a>,\n",
       " <a class=\"bread-crumbs__item\" href=\"/b/books/awards/best-books-of-the-year/_/N-9Z29Z8q8Z1qrh;jsessionid=524ACA898E848192811549138E1FA384.prodny_store01-atgap13\" rel=\"\">6 - 8 Years</a>,\n",
       " <a class=\"bread-crumbs__item\" href=\"/b/books/awards/best-books-of-the-year/_/N-aZ29Z8q8Z1qrh;jsessionid=524ACA898E848192811549138E1FA384.prodny_store01-atgap13\" rel=\"\">9 - 12 Years</a>,\n",
       " <a class=\"bread-crumbs__item\" href=\"/b/books/awards/best-books-of-the-year/_/N-bZ29Z8q8Z1qrh;jsessionid=524ACA898E848192811549138E1FA384.prodny_store01-atgap13\" rel=\"\">Teens</a>]"
      ]
     },
     "execution_count": 18,
     "metadata": {},
     "output_type": "execute_result"
    }
   ],
   "source": [
    "content"
   ]
  },
  {
   "cell_type": "code",
   "execution_count": 19,
   "metadata": {},
   "outputs": [],
   "source": [
    "ALLURL = []\n",
    "for i in content[9:20]:\n",
    "    URL = []\n",
    "    \n",
    "    for j in range(1,11):\n",
    "        B_N_book_url ='https://www.barnesandnoble.com/'+ i['href'] +'?Nrpp=20&page={}'.format(j)\n",
    "\n",
    "        r = requests.get(B_N_book_url, headers=HEADERS)\n",
    "        soup = BeautifulSoup(r.content, \"html\")\n",
    "        content = soup.find_all('div', \n",
    "                                class_ =\"product-shelf-info product-info-view text--left pl-qa-s\")\n",
    "        \n",
    "        for _ in range(len(content)):\n",
    "            link_str = content[_].find(class_ = 'link')['href']\n",
    "            url = 'https://www.barnesandnoble.com/' + link_str\n",
    "            URL.append(url)\n",
    "    \n",
    "    ALLURL.append(URL)"
   ]
  },
  {
   "cell_type": "code",
   "execution_count": 27,
   "metadata": {},
   "outputs": [
    {
     "data": {
      "text/plain": [
       "11"
      ]
     },
     "execution_count": 27,
     "metadata": {},
     "output_type": "execute_result"
    }
   ],
   "source": [
    "len(ALLURL) #11 years"
   ]
  },
  {
   "cell_type": "code",
   "execution_count": 26,
   "metadata": {},
   "outputs": [
    {
     "data": {
      "text/plain": [
       "200"
      ]
     },
     "execution_count": 26,
     "metadata": {},
     "output_type": "execute_result"
    }
   ],
   "source": [
    "len(ALLURL[0]) #each year has 200 books "
   ]
  },
  {
   "cell_type": "code",
   "execution_count": 340,
   "metadata": {},
   "outputs": [],
   "source": [
    "year = 2011\n",
    "print(year)\n",
    "for suburl in ALLURL:\n",
    "    OV = [] #overview\n",
    "    ER = [] #editorial reviews \n",
    "    Texts = []\n",
    "    for url in suburl:\n",
    "        r = requests.get(url, headers=HEADERS)\n",
    "        soup = BeautifulSoup(r.content, \"html\")\n",
    "        OVContent = soup.find_all('div',  class_ ='overview-cntnt')\n",
    "        #print(url)\n",
    "        \n",
    "      \n",
    "        ov = OVContent[0].text.strip()\n",
    "        er = ''\n",
    "        \n",
    "        ERContent = soup.find_all('div',  class_ =\"container row editorial-reviews mt-m\")\n",
    "        if len(ERContent) != 0: \n",
    "            ER = ERContent[0].find_all('p')\n",
    "        \n",
    "            for i in ER:\n",
    "                er += i.text\n",
    "               \n",
    "        else:\n",
    "            er ='N/A'\n",
    "\n",
    "          \n",
    "        text = ov + er\n",
    "        Texts.append(text)\n",
    "        \n",
    "    book_content = pd.DataFrame({\n",
    "     'Text': Texts\n",
    "    })\n",
    "    \n",
    "    book_content.to_csv('book_texts{}.csv'.format(year), encoding='utf-8', index=False)\n",
    "    year += 1 "
   ]
  },
  {
   "cell_type": "code",
   "execution_count": 123,
   "metadata": {},
   "outputs": [],
   "source": [
    "df1 = pd.read_csv('book_texts2011.csv')\n",
    "df1['Year'] = 2011"
   ]
  },
  {
   "cell_type": "code",
   "execution_count": 133,
   "metadata": {},
   "outputs": [],
   "source": [
    "df2 = pd.read_csv('book_texts2021.csv')\n",
    "df2['Year'] = 2021\n",
    "df3 = pd.concat([df3, df2], axis=0)"
   ]
  },
  {
   "cell_type": "code",
   "execution_count": 135,
   "metadata": {},
   "outputs": [],
   "source": [
    "#df3.to_csv('B&N_ALL_TEXTS.csv', encoding='utf-8')"
   ]
  },
  {
   "cell_type": "code",
   "execution_count": 269,
   "metadata": {},
   "outputs": [],
   "source": [
    "df3 =pd.read_csv('B&N_ALL_TEXTS.csv')"
   ]
  },
  {
   "cell_type": "code",
   "execution_count": 193,
   "metadata": {},
   "outputs": [
    {
     "data": {
      "text/html": [
       "<div>\n",
       "<style scoped>\n",
       "    .dataframe tbody tr th:only-of-type {\n",
       "        vertical-align: middle;\n",
       "    }\n",
       "\n",
       "    .dataframe tbody tr th {\n",
       "        vertical-align: top;\n",
       "    }\n",
       "\n",
       "    .dataframe thead th {\n",
       "        text-align: right;\n",
       "    }\n",
       "</style>\n",
       "<table border=\"1\" class=\"dataframe\">\n",
       "  <thead>\n",
       "    <tr style=\"text-align: right;\">\n",
       "      <th></th>\n",
       "      <th>Unnamed: 0</th>\n",
       "      <th>Text</th>\n",
       "      <th>Year</th>\n",
       "    </tr>\n",
       "  </thead>\n",
       "  <tbody>\n",
       "    <tr>\n",
       "      <th>0</th>\n",
       "      <td>0</td>\n",
       "      <td>From Caldecott Honor artist Melissa Sweet come...</td>\n",
       "      <td>2011</td>\n",
       "    </tr>\n",
       "    <tr>\n",
       "      <th>1</th>\n",
       "      <td>1</td>\n",
       "      <td>From a New York Times bestselling and Hugo awa...</td>\n",
       "      <td>2011</td>\n",
       "    </tr>\n",
       "    <tr>\n",
       "      <th>2</th>\n",
       "      <td>2</td>\n",
       "      <td>A masterpiece of postwar Polish literature, St...</td>\n",
       "      <td>2011</td>\n",
       "    </tr>\n",
       "    <tr>\n",
       "      <th>3</th>\n",
       "      <td>3</td>\n",
       "      <td>From the #1 New York Times-bestselling author ...</td>\n",
       "      <td>2011</td>\n",
       "    </tr>\n",
       "    <tr>\n",
       "      <th>4</th>\n",
       "      <td>4</td>\n",
       "      <td>Book one of the New York Times-bestselling All...</td>\n",
       "      <td>2011</td>\n",
       "    </tr>\n",
       "    <tr>\n",
       "      <th>...</th>\n",
       "      <td>...</td>\n",
       "      <td>...</td>\n",
       "      <td>...</td>\n",
       "    </tr>\n",
       "    <tr>\n",
       "      <th>2195</th>\n",
       "      <td>195</td>\n",
       "      <td>“A haunted work, full of voices old and new. I...</td>\n",
       "      <td>2021</td>\n",
       "    </tr>\n",
       "    <tr>\n",
       "      <th>2196</th>\n",
       "      <td>196</td>\n",
       "      <td>ONE OF THE BEST BOOKS OF THE YEAR! - Publisher...</td>\n",
       "      <td>2021</td>\n",
       "    </tr>\n",
       "    <tr>\n",
       "      <th>2197</th>\n",
       "      <td>197</td>\n",
       "      <td>“Much more than a page-turner. It’s the first ...</td>\n",
       "      <td>2021</td>\n",
       "    </tr>\n",
       "    <tr>\n",
       "      <th>2198</th>\n",
       "      <td>198</td>\n",
       "      <td>Three kids who don’t belong. A room that shoul...</td>\n",
       "      <td>2021</td>\n",
       "    </tr>\n",
       "    <tr>\n",
       "      <th>2199</th>\n",
       "      <td>199</td>\n",
       "      <td>This illuminating and defining picture book bi...</td>\n",
       "      <td>2021</td>\n",
       "    </tr>\n",
       "  </tbody>\n",
       "</table>\n",
       "<p>2200 rows × 3 columns</p>\n",
       "</div>"
      ],
      "text/plain": [
       "      Unnamed: 0                                               Text  Year\n",
       "0              0  From Caldecott Honor artist Melissa Sweet come...  2011\n",
       "1              1  From a New York Times bestselling and Hugo awa...  2011\n",
       "2              2  A masterpiece of postwar Polish literature, St...  2011\n",
       "3              3  From the #1 New York Times-bestselling author ...  2011\n",
       "4              4  Book one of the New York Times-bestselling All...  2011\n",
       "...          ...                                                ...   ...\n",
       "2195         195  “A haunted work, full of voices old and new. I...  2021\n",
       "2196         196  ONE OF THE BEST BOOKS OF THE YEAR! - Publisher...  2021\n",
       "2197         197  “Much more than a page-turner. It’s the first ...  2021\n",
       "2198         198  Three kids who don’t belong. A room that shoul...  2021\n",
       "2199         199  This illuminating and defining picture book bi...  2021\n",
       "\n",
       "[2200 rows x 3 columns]"
      ]
     },
     "execution_count": 193,
     "metadata": {},
     "output_type": "execute_result"
    }
   ],
   "source": [
    "df3"
   ]
  },
  {
   "cell_type": "markdown",
   "metadata": {},
   "source": [
    "### Data Pre-processing"
   ]
  },
  {
   "cell_type": "code",
   "execution_count": 58,
   "metadata": {},
   "outputs": [],
   "source": [
    "import nltk\n",
    "from nltk.corpus import wordnet as wn\n",
    "from nltk import pos_tag"
   ]
  },
  {
   "cell_type": "code",
   "execution_count": 60,
   "metadata": {},
   "outputs": [],
   "source": [
    "from nltk.stem import WordNetLemmatizer, SnowballStemmer\n",
    "from nltk.stem.porter import *\n",
    "from gensim import corpora, models\n",
    "from gensim.utils import effective_n_jobs"
   ]
  },
  {
   "cell_type": "code",
   "execution_count": 198,
   "metadata": {},
   "outputs": [],
   "source": [
    "def process(df):\n",
    "    \n",
    "    stopwords = nltk.corpus.stopwords.words('english')\n",
    "    defined = ['book', 'books','read', 'story','stories','character','characters', 'help', 'author', 'authors',\n",
    "               'write','much','many','little','less','im','time','times','new','york','one','best','bestselling', \n",
    "              'year', 'like','first','people','even','also','america','american','novel','readers','us','review','one',\n",
    "              'two','three','four','five','years','makes','make','written','writing','way','reviews','never']\n",
    "    stopwords = stopwords + defined\n",
    "    \n",
    "\n",
    "    clean = df.apply(lambda x: re.sub(r'[^\\w\\s]', '', x).lower())\n",
    "    \n",
    "    tokenize = lambda text: [i for i in nltk.word_tokenize(text) if i not in stopwords]\n",
    "    tokens = clean.apply(tokenize)\n",
    "    return tokens"
   ]
  },
  {
   "cell_type": "code",
   "execution_count": 289,
   "metadata": {},
   "outputs": [],
   "source": [
    "df3['Tokens'] = process(df3['Text'])"
   ]
  },
  {
   "cell_type": "code",
   "execution_count": 290,
   "metadata": {},
   "outputs": [
    {
     "data": {
      "text/html": [
       "<div>\n",
       "<style scoped>\n",
       "    .dataframe tbody tr th:only-of-type {\n",
       "        vertical-align: middle;\n",
       "    }\n",
       "\n",
       "    .dataframe tbody tr th {\n",
       "        vertical-align: top;\n",
       "    }\n",
       "\n",
       "    .dataframe thead th {\n",
       "        text-align: right;\n",
       "    }\n",
       "</style>\n",
       "<table border=\"1\" class=\"dataframe\">\n",
       "  <thead>\n",
       "    <tr style=\"text-align: right;\">\n",
       "      <th></th>\n",
       "      <th>Unnamed: 0</th>\n",
       "      <th>Text</th>\n",
       "      <th>Year</th>\n",
       "      <th>Tokens</th>\n",
       "    </tr>\n",
       "  </thead>\n",
       "  <tbody>\n",
       "    <tr>\n",
       "      <th>0</th>\n",
       "      <td>0</td>\n",
       "      <td>From Caldecott Honor artist Melissa Sweet come...</td>\n",
       "      <td>2011</td>\n",
       "      <td>[caldecott, honor, artist, melissa, sweet, com...</td>\n",
       "    </tr>\n",
       "    <tr>\n",
       "      <th>1</th>\n",
       "      <td>1</td>\n",
       "      <td>From a New York Times bestselling and Hugo awa...</td>\n",
       "      <td>2011</td>\n",
       "      <td>[hugo, awardwinning, comes, modern, masterwork...</td>\n",
       "    </tr>\n",
       "    <tr>\n",
       "      <th>2</th>\n",
       "      <td>2</td>\n",
       "      <td>A masterpiece of postwar Polish literature, St...</td>\n",
       "      <td>2011</td>\n",
       "      <td>[masterpiece, postwar, polish, literature, sto...</td>\n",
       "    </tr>\n",
       "    <tr>\n",
       "      <th>3</th>\n",
       "      <td>3</td>\n",
       "      <td>From the #1 New York Times-bestselling author ...</td>\n",
       "      <td>2011</td>\n",
       "      <td>[1, timesbestselling, lincoln, highway, gentle...</td>\n",
       "    </tr>\n",
       "    <tr>\n",
       "      <th>4</th>\n",
       "      <td>4</td>\n",
       "      <td>Book one of the New York Times-bestselling All...</td>\n",
       "      <td>2011</td>\n",
       "      <td>[timesbestselling, souls, trilogya, wonderfull...</td>\n",
       "    </tr>\n",
       "  </tbody>\n",
       "</table>\n",
       "</div>"
      ],
      "text/plain": [
       "   Unnamed: 0                                               Text  Year  \\\n",
       "0           0  From Caldecott Honor artist Melissa Sweet come...  2011   \n",
       "1           1  From a New York Times bestselling and Hugo awa...  2011   \n",
       "2           2  A masterpiece of postwar Polish literature, St...  2011   \n",
       "3           3  From the #1 New York Times-bestselling author ...  2011   \n",
       "4           4  Book one of the New York Times-bestselling All...  2011   \n",
       "\n",
       "                                              Tokens  \n",
       "0  [caldecott, honor, artist, melissa, sweet, com...  \n",
       "1  [hugo, awardwinning, comes, modern, masterwork...  \n",
       "2  [masterpiece, postwar, polish, literature, sto...  \n",
       "3  [1, timesbestselling, lincoln, highway, gentle...  \n",
       "4  [timesbestselling, souls, trilogya, wonderfull...  "
      ]
     },
     "execution_count": 290,
     "metadata": {},
     "output_type": "execute_result"
    }
   ],
   "source": [
    "df3.head()"
   ]
  },
  {
   "cell_type": "code",
   "execution_count": 291,
   "metadata": {},
   "outputs": [],
   "source": [
    "df3['Format'] = df3['Tokens'].apply(lambda x: pos_tag(x))"
   ]
  },
  {
   "cell_type": "code",
   "execution_count": 292,
   "metadata": {},
   "outputs": [
    {
     "data": {
      "text/plain": [
       "0    [(caldecott, NN), (honor, NN), (artist, NN), (...\n",
       "1    [(hugo, NN), (awardwinning, VBG), (comes, VBZ)...\n",
       "2    [(masterpiece, JJ), (postwar, JJ), (polish, JJ...\n",
       "3    [(1, CD), (timesbestselling, VBG), (lincoln, J...\n",
       "4    [(timesbestselling, VBG), (souls, NNS), (trilo...\n",
       "Name: Format, dtype: object"
      ]
     },
     "execution_count": 292,
     "metadata": {},
     "output_type": "execute_result"
    }
   ],
   "source": [
    "df3['Format'].head()"
   ]
  },
  {
   "cell_type": "code",
   "execution_count": 293,
   "metadata": {},
   "outputs": [],
   "source": [
    "df3['NewTokens'] = df3['Format'].apply(lambda x: [i[0] for i in x if i[1] in ('JJ','NN')])"
   ]
  },
  {
   "cell_type": "code",
   "execution_count": 294,
   "metadata": {},
   "outputs": [
    {
     "data": {
      "text/plain": [
       "0    [caldecott, honor, artist, sweet, perfect, day...\n",
       "1    [hugo, modern, masterwork, science, fiction, c...\n",
       "2    [masterpiece, postwar, polish, literature, sto...\n",
       "3    [lincoln, highway, gentleman, stylish, boston,...\n",
       "4    [imaginative, grownup, fantasy, magic, potter,...\n",
       "Name: NewTokens, dtype: object"
      ]
     },
     "execution_count": 294,
     "metadata": {},
     "output_type": "execute_result"
    }
   ],
   "source": [
    "df3['NewTokens'].head()"
   ]
  },
  {
   "cell_type": "code",
   "execution_count": 295,
   "metadata": {},
   "outputs": [
    {
     "data": {
      "text/html": [
       "<div>\n",
       "<style scoped>\n",
       "    .dataframe tbody tr th:only-of-type {\n",
       "        vertical-align: middle;\n",
       "    }\n",
       "\n",
       "    .dataframe tbody tr th {\n",
       "        vertical-align: top;\n",
       "    }\n",
       "\n",
       "    .dataframe thead th {\n",
       "        text-align: right;\n",
       "    }\n",
       "</style>\n",
       "<table border=\"1\" class=\"dataframe\">\n",
       "  <thead>\n",
       "    <tr style=\"text-align: right;\">\n",
       "      <th></th>\n",
       "      <th>Unnamed: 0</th>\n",
       "      <th>Text</th>\n",
       "      <th>Year</th>\n",
       "      <th>Tokens</th>\n",
       "      <th>Format</th>\n",
       "      <th>NewTokens</th>\n",
       "    </tr>\n",
       "  </thead>\n",
       "  <tbody>\n",
       "    <tr>\n",
       "      <th>0</th>\n",
       "      <td>0</td>\n",
       "      <td>From Caldecott Honor artist Melissa Sweet come...</td>\n",
       "      <td>2011</td>\n",
       "      <td>[caldecott, honor, artist, melissa, sweet, com...</td>\n",
       "      <td>[(caldecott, NN), (honor, NN), (artist, NN), (...</td>\n",
       "      <td>[caldecott, honor, artist, sweet, perfect, day...</td>\n",
       "    </tr>\n",
       "    <tr>\n",
       "      <th>1</th>\n",
       "      <td>1</td>\n",
       "      <td>From a New York Times bestselling and Hugo awa...</td>\n",
       "      <td>2011</td>\n",
       "      <td>[hugo, awardwinning, comes, modern, masterwork...</td>\n",
       "      <td>[(hugo, NN), (awardwinning, VBG), (comes, VBZ)...</td>\n",
       "      <td>[hugo, modern, masterwork, science, fiction, c...</td>\n",
       "    </tr>\n",
       "    <tr>\n",
       "      <th>2</th>\n",
       "      <td>2</td>\n",
       "      <td>A masterpiece of postwar Polish literature, St...</td>\n",
       "      <td>2011</td>\n",
       "      <td>[masterpiece, postwar, polish, literature, sto...</td>\n",
       "      <td>[(masterpiece, JJ), (postwar, JJ), (polish, JJ...</td>\n",
       "      <td>[masterpiece, postwar, polish, literature, sto...</td>\n",
       "    </tr>\n",
       "    <tr>\n",
       "      <th>3</th>\n",
       "      <td>3</td>\n",
       "      <td>From the #1 New York Times-bestselling author ...</td>\n",
       "      <td>2011</td>\n",
       "      <td>[1, timesbestselling, lincoln, highway, gentle...</td>\n",
       "      <td>[(1, CD), (timesbestselling, VBG), (lincoln, J...</td>\n",
       "      <td>[lincoln, highway, gentleman, stylish, boston,...</td>\n",
       "    </tr>\n",
       "    <tr>\n",
       "      <th>4</th>\n",
       "      <td>4</td>\n",
       "      <td>Book one of the New York Times-bestselling All...</td>\n",
       "      <td>2011</td>\n",
       "      <td>[timesbestselling, souls, trilogya, wonderfull...</td>\n",
       "      <td>[(timesbestselling, VBG), (souls, NNS), (trilo...</td>\n",
       "      <td>[imaginative, grownup, fantasy, magic, potter,...</td>\n",
       "    </tr>\n",
       "  </tbody>\n",
       "</table>\n",
       "</div>"
      ],
      "text/plain": [
       "   Unnamed: 0                                               Text  Year  \\\n",
       "0           0  From Caldecott Honor artist Melissa Sweet come...  2011   \n",
       "1           1  From a New York Times bestselling and Hugo awa...  2011   \n",
       "2           2  A masterpiece of postwar Polish literature, St...  2011   \n",
       "3           3  From the #1 New York Times-bestselling author ...  2011   \n",
       "4           4  Book one of the New York Times-bestselling All...  2011   \n",
       "\n",
       "                                              Tokens  \\\n",
       "0  [caldecott, honor, artist, melissa, sweet, com...   \n",
       "1  [hugo, awardwinning, comes, modern, masterwork...   \n",
       "2  [masterpiece, postwar, polish, literature, sto...   \n",
       "3  [1, timesbestselling, lincoln, highway, gentle...   \n",
       "4  [timesbestselling, souls, trilogya, wonderfull...   \n",
       "\n",
       "                                              Format  \\\n",
       "0  [(caldecott, NN), (honor, NN), (artist, NN), (...   \n",
       "1  [(hugo, NN), (awardwinning, VBG), (comes, VBZ)...   \n",
       "2  [(masterpiece, JJ), (postwar, JJ), (polish, JJ...   \n",
       "3  [(1, CD), (timesbestselling, VBG), (lincoln, J...   \n",
       "4  [(timesbestselling, VBG), (souls, NNS), (trilo...   \n",
       "\n",
       "                                           NewTokens  \n",
       "0  [caldecott, honor, artist, sweet, perfect, day...  \n",
       "1  [hugo, modern, masterwork, science, fiction, c...  \n",
       "2  [masterpiece, postwar, polish, literature, sto...  \n",
       "3  [lincoln, highway, gentleman, stylish, boston,...  \n",
       "4  [imaginative, grownup, fantasy, magic, potter,...  "
      ]
     },
     "execution_count": 295,
     "metadata": {},
     "output_type": "execute_result"
    }
   ],
   "source": [
    "df3.head()"
   ]
  },
  {
   "cell_type": "code",
   "execution_count": 212,
   "metadata": {},
   "outputs": [],
   "source": [
    "def prepare_data(tokens):\n",
    "    '''\n",
    "    Prepares Pandas series of lists of tokens for use within a Gensim topic model\n",
    "    \n",
    "    Returns an id2word dictionary + bag of words corpus\n",
    "    '''\n",
    "    # Initialize Series of tokens as Gensim Dictionary for further processing\n",
    "    dictionary = corpora.Dictionary([i for i in tokens])\n",
    "\n",
    "    # Convert dictionary into bag of words format: list of (token_id, token_count) tuples\n",
    "    bow_corpus = [dictionary.doc2bow(text) for text in tokens]\n",
    "    \n",
    "    return dictionary, bow_corpus"
   ]
  },
  {
   "cell_type": "code",
   "execution_count": 296,
   "metadata": {},
   "outputs": [],
   "source": [
    "# Prepare Data for Topic Modeling with Gensim\n",
    "dictionary, bow_corpus = prepare_data(df3['NewTokens'])"
   ]
  },
  {
   "cell_type": "markdown",
   "metadata": {},
   "source": [
    "## Topic Modeling"
   ]
  },
  {
   "cell_type": "markdown",
   "metadata": {},
   "source": [
    "#### Reference: Some of the code are directly from class lecture"
   ]
  },
  {
   "cell_type": "code",
   "execution_count": 215,
   "metadata": {},
   "outputs": [],
   "source": [
    "def compute_coherence_values(dictionary, corpus, texts, limit, start=2, step=2):\n",
    "    '''\n",
    "    Computes Coherence values for LDA models with differing numbers of topics.\n",
    "    \n",
    "    Returns list of models along with their respective coherence values (pick\n",
    "    models with the highest coherence)\n",
    "    '''\n",
    "    coherence_values = []\n",
    "    model_list = []\n",
    "    for num_topics in range(start, limit, step):\n",
    "        model = models.ldamulticore.LdaMulticore(corpus=corpus,\n",
    "                                                 id2word=dictionary,\n",
    "                                                 num_topics=num_topics,\n",
    "                                                 workers=effective_n_jobs(-1),\n",
    "                                                 passes=20,\n",
    "                                                 iterations=400)\n",
    "        model_list.append(model)\n",
    "        coherence_model = models.coherencemodel.CoherenceModel(model=model, \n",
    "                                                               corpus=corpus,\n",
    "                                                               dictionary=dictionary,\n",
    "                                                               coherence='u_mass')\n",
    "        coherence_values.append(coherence_model.get_coherence())\n",
    "\n",
    "    return model_list, coherence_values"
   ]
  },
  {
   "cell_type": "code",
   "execution_count": 297,
   "metadata": {},
   "outputs": [
    {
     "data": {
      "image/png": "[encoded data removed]",
      "text/plain": [
       "<Figure size 432x288 with 1 Axes>"
      ]
     },
     "metadata": {
      "needs_background": "light"
     },
     "output_type": "display_data"
    }
   ],
   "source": [
    "model_list, coherence_values = compute_coherence_values(dictionary=dictionary,\n",
    "                                                           corpus=bow_corpus,\n",
    "                                                           texts=df3['NewTokens'],\n",
    "                                                           start=2,\n",
    "                                                           limit=20,\n",
    "                                                           step=2)\n",
    "plt.plot(range(2, 20, 2), coherence_values)\n",
    "plt.xlabel(\"Number of Topics\")\n",
    "plt.ylabel(\"Coherence score\")\n",
    "plt.legend((\"coherence_values\"), loc='best');"
   ]
  },
  {
   "cell_type": "code",
   "execution_count": 298,
   "metadata": {},
   "outputs": [],
   "source": [
    "ldamodel = model_list[0]\n",
    "ldamodel.save('lda.model')"
   ]
  },
  {
   "cell_type": "code",
   "execution_count": 299,
   "metadata": {},
   "outputs": [
    {
     "name": "stdout",
     "output_type": "stream",
     "text": [
      "Topic 0: \n",
      "['life', 'world', 'history', 'war', 'work', 'family', 'great', 'human', 'narrative', 'young', 'fiction', 'man', 'tale', 'power', 'good', 'black', 'love', 'writer', 'series', 'woman']\n",
      "Topic 1: \n",
      "['family', 'life', 'world', 'young', 'school', 'tale', 'library', 'home', 'love', 'work', 'girl', 'black', 'city', 'great', 'white', 'debut', 'mother', 'narrative', 'good', 'history']\n"
     ]
    }
   ],
   "source": [
    "for i, topic in ldamodel.show_topics(formatted=False, num_words=20):\n",
    "    print('Topic {}: \\n{}'.format(i, [w[0] for w in topic]))"
   ]
  },
  {
   "cell_type": "code",
   "execution_count": 157,
   "metadata": {},
   "outputs": [],
   "source": [
    "import pyLDAvis\n",
    "import pyLDAvis.gensim_models"
   ]
  },
  {
   "cell_type": "code",
   "execution_count": 300,
   "metadata": {},
   "outputs": [
    {
     "name": "stderr",
     "output_type": "stream",
     "text": [
      "/Library/Frameworks/Python.framework/Versions/3.9/lib/python3.9/site-packages/past/builtins/misc.py:45: DeprecationWarning: the imp module is deprecated in favour of importlib; see the module's documentation for alternative uses\n",
      "  from imp import reload\n",
      "/Library/Frameworks/Python.framework/Versions/3.9/lib/python3.9/site-packages/past/builtins/misc.py:45: DeprecationWarning: the imp module is deprecated in favour of importlib; see the module's documentation for alternative uses\n",
      "  from imp import reload\n",
      "/Library/Frameworks/Python.framework/Versions/3.9/lib/python3.9/site-packages/past/builtins/misc.py:45: DeprecationWarning: the imp module is deprecated in favour of importlib; see the module's documentation for alternative uses\n",
      "  from imp import reload\n",
      "/Library/Frameworks/Python.framework/Versions/3.9/lib/python3.9/site-packages/past/builtins/misc.py:45: DeprecationWarning: the imp module is deprecated in favour of importlib; see the module's documentation for alternative uses\n",
      "  from imp import reload\n"
     ]
    },
    {
     "data": {
      "text/html": [
       "\n",
       "<link rel=\"stylesheet\" type=\"text/css\" href=\"https://cdn.jsdelivr.net/gh/bmabey/pyLDAvis@3.3.1/pyLDAvis/js/ldavis.v1.0.0.css\">\n",
       "\n",
       "\n",
       "<div id=\"ldavis_el791341402110685961127001328939\"></div>\n",
       "<script type=\"text/javascript\">\n",
       "\n",
       "var ldavis_el791341402110685961127001328939_data = {\"mdsDat\": {\"x\": [0.04181467416247051, -0.04181467416247051], \"y\": [0.0, 0.0], \"topics\": [1, 2], \"cluster\": [1, 1], \"Freq\": [69.35253295044934, 30.647467049550652]}, \"tinfo\": {\"Term\": [\"family\", \"school\", \"young\", \"picture\", \"girl\", \"library\", \"home\", \"city\", \"tale\", \"mother\", \"summer\", \"boy\", \"food\", \"child\", \"white\", \"magic\", \"love\", \"text\", \"war\", \"magical\", \"black\", \"graphic\", \"simple\", \"debut\", \"red\", \"place\", \"brother\", \"day\", \"heart\", \"identity\", \"gamache\", \"churchill\", \"soviet\", \"carr\\u00e9\", \"sedaris\", \"meacham\", \"jefferson\", \"ancillary\", \"berlin\", \"nazi\", \"ferrante\", \"deng\", \"macintyre\", \"hitler\", \"hazel\", \"lincoln\", \"beevor\", \"ada\", \"lila\", \"winston\", \"undocumented\", \"sandberg\", \"carr\\u00e9s\", \"napoleon\", \"congress\", \"bryson\", \"lincolns\", \"roosevelt\", \"neapolitan\", \"brownstein\", \"military\", \"espionage\", \"iraq\", \"isaacson\", \"slavery\", \"biography\", \"german\", \"nazis\", \"pennys\", \"war\", \"ii\", \"nuclear\", \"spy\", \"franklin\", \"civil\", \"historian\", \"thriller\", \"le\", \"history\", \"revolution\", \"germany\", \"science\", \"human\", \"scientific\", \"life\", \"intellectual\", \"president\", \"political\", \"world\", \"research\", \"british\", \"account\", \"fiction\", \"writer\", \"work\", \"personal\", \"power\", \"man\", \"washington\", \"historical\", \"great\", \"woman\", \"narrative\", \"brilliant\", \"literary\", \"justice\", \"powerful\", \"national\", \"good\", \"series\", \"black\", \"tale\", \"family\", \"death\", \"young\", \"love\", \"debut\", \"real\", \"heart\", \"school\", \"piketty\", \"pikettys\", \"macy\", \"bascombe\", \"patchetts\", \"shuggie\", \"ellie\", \"faerie\", \"unicorn\", \"merci\", \"ginny\", \"tweedy\", \"bain\", \"venn\", \"faludi\", \"tacos\", \"josie\", \"darius\", \"delphine\", \"crayon\", \"raina\", \"rooney\", \"pizza\", \"smarsh\", \"brunetti\", \"alligator\", \"juli\\u00e1n\", \"n\\u00ed\", \"habibi\", \"palestinian\", \"jude\", \"convenience\", \"hosseini\", \"trethewey\", \"goat\", \"cookbook\", \"wordless\", \"readaloud\", \"broom\", \"caldecott\", \"gouache\", \"cooking\", \"watercolor\", \"chef\", \"elephant\", \"picture\", \"kitchen\", \"woodson\", \"meat\", \"korean\", \"snow\", \"family\", \"school\", \"food\", \"inequality\", \"girl\", \"boy\", \"summer\", \"young\", \"child\", \"sky\", \"library\", \"home\", \"text\", \"magic\", \"city\", \"mother\", \"honor\", \"tale\", \"white\", \"magical\", \"graphic\", \"love\", \"red\", \"world\", \"life\", \"simple\", \"black\", \"debut\", \"place\", \"heart\", \"day\", \"good\", \"series\", \"work\", \"beautiful\", \"great\", \"narrative\", \"last\", \"history\", \"powerful\", \"journal\"], \"Freq\": [3734.0, 1860.0, 2482.0, 669.0, 1133.0, 1508.0, 1462.0, 1192.0, 2088.0, 1138.0, 770.0, 699.0, 570.0, 738.0, 1268.0, 720.0, 1799.0, 494.0, 2370.0, 520.0, 1743.0, 452.0, 544.0, 1590.0, 378.0, 1217.0, 512.0, 1105.0, 1362.0, 617.0, 130.94567664841446, 119.59216002383822, 141.16640808110907, 90.244480974059, 86.45994902851531, 81.73245917978285, 127.7900708154178, 78.8890192534701, 97.68283617336328, 120.09079990889451, 62.83415275825013, 58.108951257767856, 57.15191561217068, 68.37841130618241, 55.23152495927003, 94.53868088295701, 47.697939267400066, 46.750153829537325, 49.54405101623342, 44.86227092379854, 52.332971045485344, 42.02658057684846, 43.890193789126066, 43.88041990169592, 46.683070020449, 46.66550254695906, 41.99368997142166, 51.330115626847785, 39.18522656797915, 39.18404278782664, 434.5442011130621, 102.55951752666886, 115.26475266129415, 89.45738599072658, 232.40961224494615, 738.8173130391876, 220.14992731597266, 65.25861372263155, 56.86149781520303, 2213.458568374165, 327.5523378538991, 100.85500612715556, 278.7696995125594, 107.05908788968217, 491.42004071085626, 239.72026881055027, 1013.2999681318005, 158.52020265251403, 3225.0563574614, 250.89092880725732, 125.14277753950421, 995.5339364244628, 1626.0214065852788, 278.34709439878543, 4468.274419468695, 267.27286187680573, 382.70941668365276, 938.6141957456227, 3708.063725897396, 622.5444373576107, 397.2408153313073, 846.6062608019291, 1388.8998036503256, 1158.60290012603, 2083.266902474189, 981.5060095972083, 1289.3322926594435, 1343.9084830872255, 890.6978028330539, 1014.3066301297389, 1632.6019920456774, 1150.170231207999, 1491.010831323975, 846.1498585447678, 1123.8331735268878, 494.4274935973318, 1149.883377953498, 786.914098204587, 1273.7250534859795, 1153.2338014346408, 1185.3938252785483, 1340.273459494474, 2026.4209522250783, 896.9637932170875, 1467.2231344150089, 1176.6815554097016, 1075.0536860650618, 908.3768068961688, 912.7586769470674, 931.5714343494006, 56.22684812973376, 45.75755877655807, 46.605892170174634, 37.02107638388871, 34.41187022150717, 30.930125072701735, 29.187141534131555, 42.013896550860956, 56.589311664801535, 26.571280632568953, 39.402652350296556, 26.534977105090253, 26.53189282211504, 24.82402265895495, 26.510979594425628, 32.52034714812458, 26.51403665169992, 26.496654986357914, 23.085521637571315, 38.48815661406802, 23.933382470807686, 23.06014145023874, 29.034813737505957, 22.198162146384444, 32.4519367404941, 21.339918597634423, 21.337621915292857, 21.327779824411685, 23.87444660709601, 22.154342380759974, 86.12226627319775, 57.97759293775795, 25.55602257724992, 48.26107087859745, 41.49511470929045, 112.3955654986258, 84.134066680555, 40.2411572658824, 25.53477097299198, 85.16136238506479, 31.045064203197832, 70.60608262164459, 58.30461638900465, 90.3830417939378, 45.636007690125204, 444.48604639422325, 91.96847214599941, 53.75392993675239, 61.28105058411428, 90.156142802503, 94.95256454183816, 1708.0124057792234, 929.2418603766059, 342.8897807483489, 114.44674202687334, 565.0471752266935, 380.74262174215386, 405.6688555164266, 1015.4295305621758, 385.21974046114497, 133.08596249419767, 662.7439426242129, 646.2213959427686, 278.9119039175334, 365.31068996677845, 532.1270400522382, 512.2806864576957, 179.77464802085817, 748.646411924529, 515.6654167106724, 266.45827713185923, 240.73076764331043, 622.957890174844, 211.71832954257167, 1155.3193512907415, 1262.1277362350816, 262.6036468386139, 558.2195295084965, 515.1545381011392, 423.23416210050107, 450.20727074227665, 394.34825350007696, 499.44922917347947, 474.4663037111277, 621.8338887806802, 407.80727096918105, 531.4247725440365, 504.0916934635199, 399.0942376837721, 476.2243372282257, 410.3836312681002, 391.994210496067], \"Total\": [3734.0, 1860.0, 2482.0, 669.0, 1133.0, 1508.0, 1462.0, 1192.0, 2088.0, 1138.0, 770.0, 699.0, 570.0, 738.0, 1268.0, 720.0, 1799.0, 494.0, 2370.0, 520.0, 1743.0, 452.0, 544.0, 1590.0, 378.0, 1217.0, 512.0, 1105.0, 1362.0, 617.0, 131.39029084934302, 120.0372313491469, 141.77437171695942, 90.7062114505173, 86.92084857415078, 82.19157568509493, 128.51752282622672, 79.3519171837843, 98.25951656728623, 120.93323820900288, 63.27546207510007, 58.54568668724973, 57.598618018282345, 68.9328460539057, 55.69852777171388, 95.39233453100817, 48.138299057544735, 47.191583109631935, 50.02062186978549, 45.300869429871895, 52.85469387047133, 42.46299300499022, 44.35024405089925, 44.34704875576792, 47.18227558032854, 47.171349293940864, 42.456547883601814, 51.902318729946415, 39.62453491735507, 39.62439762508152, 443.7652893138806, 103.86831057030463, 117.06877901681432, 90.63283180529105, 237.8480758111904, 765.8063564947709, 225.5516760521851, 66.0684446272472, 57.55258722848571, 2370.653729136915, 339.4705867886015, 102.85173805999614, 290.3045989102055, 109.44773791968251, 521.4706978562509, 249.753615378925, 1107.3414362606388, 164.03564008167334, 3701.2806946896253, 266.3264300664921, 129.16877295765408, 1123.4036257561122, 1897.4435357383354, 297.2515476444344, 5730.402155703776, 286.7942436711349, 421.4028278569273, 1097.1623649410992, 4863.383077188138, 717.4937892667408, 444.3420791296505, 1006.2490120770367, 1728.0574542020083, 1423.985186442598, 2705.1007912548694, 1208.6755622689473, 1643.5340565451093, 1722.8070692124732, 1093.4293174418044, 1264.4439241121931, 2164.026764589714, 1481.7761879725501, 1995.102524787495, 1048.0859937481835, 1493.6832746163534, 573.1706692484344, 1560.267009221598, 994.6205729205087, 1773.174282659459, 1627.7001051457685, 1743.613354787045, 2088.9198714190034, 3734.4333580043017, 1202.9630914900706, 2482.652664977185, 1799.6394455845457, 1590.208224166201, 1236.130311423548, 1362.9659476893441, 1860.8132947260065, 56.70664434708365, 46.23800942162645, 47.10996368496354, 37.51868479322081, 34.89922276693497, 31.409734914813285, 29.665589702579858, 42.74525457691536, 57.583670284111435, 27.04886620099326, 40.13223986315702, 27.038448444166963, 27.041866288212024, 25.304221984526503, 27.036573306425492, 33.16609984015927, 27.042820918001382, 27.03756498862845, 23.55901499572633, 39.28441688596153, 24.43241841613804, 23.55354526032273, 29.659984084735267, 22.685472335366264, 33.17129152734648, 21.814326641865105, 21.81453256538033, 21.814526693290148, 24.42763901605341, 22.680675645933064, 88.20711229108818, 59.36414838693482, 26.16633626353183, 49.73813201379964, 42.75956738886866, 119.11725513283446, 90.27090675996737, 41.95200521721805, 26.165506310874317, 95.85225916944478, 32.32155285195904, 79.10059965197419, 65.00583575796466, 107.69834480754017, 49.99228289589568, 669.0579250608306, 111.3430652507868, 60.63626986938024, 71.35771839261758, 112.43207104433299, 119.5987859045657, 3734.4333580043017, 1860.8132947260065, 570.7360041181196, 151.9991221015976, 1133.7866307221948, 699.0346127186062, 770.7207434051585, 2482.652664977185, 738.3896088955794, 191.110724539707, 1508.6839068264014, 1462.7760817731594, 494.77549092071354, 720.2034029907459, 1192.3805697336838, 1138.2418037796317, 293.1274153084014, 2088.9198714190034, 1268.5086850770836, 520.4225280498399, 452.5883193916677, 1799.6394455845457, 378.40723134111767, 4863.383077188138, 5730.402155703776, 544.397873836131, 1743.613354787045, 1590.208224166201, 1217.6600978872418, 1362.9659476893441, 1105.628358214322, 1773.174282659459, 1627.7001051457685, 2705.1007912548694, 1273.8337224151176, 2164.026764589714, 1995.102524787495, 1286.8671793995036, 3701.2806946896253, 1560.267009221598, 1269.4926093898666], \"Category\": [\"Default\", \"Default\", \"Default\", \"Default\", \"Default\", \"Default\", \"Default\", \"Default\", \"Default\", \"Default\", \"Default\", \"Default\", \"Default\", \"Default\", \"Default\", \"Default\", \"Default\", \"Default\", \"Default\", \"Default\", \"Default\", \"Default\", \"Default\", \"Default\", \"Default\", \"Default\", \"Default\", \"Default\", \"Default\", \"Default\", \"Topic1\", \"Topic1\", \"Topic1\", \"Topic1\", \"Topic1\", \"Topic1\", \"Topic1\", \"Topic1\", \"Topic1\", \"Topic1\", \"Topic1\", \"Topic1\", \"Topic1\", \"Topic1\", \"Topic1\", \"Topic1\", \"Topic1\", \"Topic1\", \"Topic1\", \"Topic1\", \"Topic1\", \"Topic1\", \"Topic1\", \"Topic1\", \"Topic1\", \"Topic1\", \"Topic1\", \"Topic1\", \"Topic1\", \"Topic1\", \"Topic1\", \"Topic1\", \"Topic1\", \"Topic1\", \"Topic1\", \"Topic1\", \"Topic1\", \"Topic1\", \"Topic1\", \"Topic1\", \"Topic1\", \"Topic1\", \"Topic1\", \"Topic1\", \"Topic1\", \"Topic1\", \"Topic1\", \"Topic1\", \"Topic1\", \"Topic1\", \"Topic1\", \"Topic1\", \"Topic1\", \"Topic1\", \"Topic1\", \"Topic1\", \"Topic1\", \"Topic1\", \"Topic1\", \"Topic1\", \"Topic1\", \"Topic1\", \"Topic1\", \"Topic1\", \"Topic1\", \"Topic1\", \"Topic1\", \"Topic1\", \"Topic1\", \"Topic1\", \"Topic1\", \"Topic1\", \"Topic1\", \"Topic1\", \"Topic1\", \"Topic1\", \"Topic1\", \"Topic1\", \"Topic1\", \"Topic1\", \"Topic1\", \"Topic1\", \"Topic1\", \"Topic1\", \"Topic1\", \"Topic1\", \"Topic1\", \"Topic1\", \"Topic1\", \"Topic1\", \"Topic2\", \"Topic2\", \"Topic2\", \"Topic2\", \"Topic2\", \"Topic2\", \"Topic2\", \"Topic2\", \"Topic2\", \"Topic2\", \"Topic2\", \"Topic2\", \"Topic2\", \"Topic2\", \"Topic2\", \"Topic2\", \"Topic2\", \"Topic2\", \"Topic2\", \"Topic2\", \"Topic2\", \"Topic2\", \"Topic2\", \"Topic2\", \"Topic2\", \"Topic2\", \"Topic2\", \"Topic2\", \"Topic2\", \"Topic2\", \"Topic2\", \"Topic2\", \"Topic2\", \"Topic2\", \"Topic2\", \"Topic2\", \"Topic2\", \"Topic2\", \"Topic2\", \"Topic2\", \"Topic2\", \"Topic2\", \"Topic2\", \"Topic2\", \"Topic2\", \"Topic2\", \"Topic2\", \"Topic2\", \"Topic2\", \"Topic2\", \"Topic2\", \"Topic2\", \"Topic2\", \"Topic2\", \"Topic2\", \"Topic2\", \"Topic2\", \"Topic2\", \"Topic2\", \"Topic2\", \"Topic2\", \"Topic2\", \"Topic2\", \"Topic2\", \"Topic2\", \"Topic2\", \"Topic2\", \"Topic2\", \"Topic2\", \"Topic2\", \"Topic2\", \"Topic2\", \"Topic2\", \"Topic2\", \"Topic2\", \"Topic2\", \"Topic2\", \"Topic2\", \"Topic2\", \"Topic2\", \"Topic2\", \"Topic2\", \"Topic2\", \"Topic2\", \"Topic2\", \"Topic2\", \"Topic2\", \"Topic2\", \"Topic2\", \"Topic2\", \"Topic2\", \"Topic2\"], \"logprob\": [30.0, 29.0, 28.0, 27.0, 26.0, 25.0, 24.0, 23.0, 22.0, 21.0, 20.0, 19.0, 18.0, 17.0, 16.0, 15.0, 14.0, 13.0, 12.0, 11.0, 10.0, 9.0, 8.0, 7.0, 6.0, 5.0, 4.0, 3.0, 2.0, 1.0, -8.4379, -8.5286, -8.3628, -8.8102, -8.853, -8.9092, -8.4623, -8.9446, -8.731, -8.5244, -9.1722, -9.2504, -9.267, -9.0876, -9.3012, -8.7637, -9.4478, -9.4679, -9.4098, -9.5091, -9.3551, -9.5744, -9.531, -9.5312, -9.4693, -9.4697, -9.5752, -9.3744, -9.6444, -9.6444, -7.2384, -8.6822, -8.5655, -8.8189, -7.8642, -6.7076, -7.9184, -9.1343, -9.2721, -5.6104, -7.521, -8.699, -7.6823, -8.6393, -7.1154, -7.8332, -6.3917, -8.2468, -5.234, -7.7877, -8.4832, -6.4094, -5.9188, -7.6838, -4.9079, -7.7244, -7.3654, -6.4683, -5.0944, -6.8789, -7.3281, -6.5715, -6.0764, -6.2577, -5.671, -6.4236, -6.1508, -6.1094, -6.5207, -6.3907, -5.9148, -6.265, -6.0055, -6.572, -6.2882, -7.1093, -6.2653, -6.6446, -6.163, -6.2624, -6.2349, -6.1121, -5.6987, -6.5137, -6.0216, -6.2422, -6.3326, -6.501, -6.4962, -6.4758, -8.4666, -8.6727, -8.6543, -8.8846, -8.9576, -9.0643, -9.1223, -8.758, -8.4602, -9.2162, -8.8222, -9.2176, -9.2177, -9.2842, -9.2185, -9.0142, -9.2184, -9.219, -9.3568, -8.8457, -9.3208, -9.3579, -9.1275, -9.396, -9.0163, -9.4355, -9.4356, -9.436, -9.3232, -9.398, -8.0403, -8.436, -9.2552, -8.6194, -8.7705, -7.774, -8.0636, -8.8011, -9.256, -8.0515, -9.0606, -8.2389, -8.4304, -7.992, -8.6753, -6.3991, -7.9746, -8.5116, -8.3806, -7.9945, -7.9427, -5.053, -5.6617, -6.6586, -7.7559, -6.1591, -6.5539, -6.4905, -5.573, -6.5422, -7.605, -5.9997, -6.0249, -6.8651, -6.5953, -6.2192, -6.2572, -7.3043, -5.8778, -6.2506, -6.9108, -7.0124, -6.0616, -7.1408, -5.4439, -5.3555, -6.9254, -6.1713, -6.2516, -6.4481, -6.3863, -6.5188, -6.2825, -6.3338, -6.0634, -6.4852, -6.2205, -6.2733, -6.5068, -6.3302, -6.4789, -6.5248], \"loglift\": [30.0, 29.0, 28.0, 27.0, 26.0, 25.0, 24.0, 23.0, 22.0, 21.0, 20.0, 19.0, 18.0, 17.0, 16.0, 15.0, 14.0, 13.0, 12.0, 11.0, 10.0, 9.0, 8.0, 7.0, 6.0, 5.0, 4.0, 3.0, 2.0, 1.0, 0.3626, 0.3623, 0.3617, 0.3609, 0.3607, 0.3604, 0.3603, 0.3601, 0.3601, 0.359, 0.359, 0.3585, 0.3582, 0.3579, 0.3575, 0.357, 0.3568, 0.3566, 0.3564, 0.3562, 0.356, 0.3556, 0.3555, 0.3554, 0.3553, 0.3552, 0.355, 0.3549, 0.3548, 0.3548, 0.345, 0.3533, 0.3504, 0.3529, 0.3428, 0.3301, 0.3417, 0.3536, 0.3539, 0.2974, 0.3302, 0.3464, 0.3254, 0.3439, 0.3066, 0.325, 0.2772, 0.3318, 0.2282, 0.3063, 0.3343, 0.2451, 0.2116, 0.3003, 0.1172, 0.2955, 0.2697, 0.2099, 0.0947, 0.224, 0.2539, 0.1932, 0.1475, 0.1597, 0.1048, 0.1578, 0.1232, 0.1176, 0.1609, 0.1455, 0.0842, 0.1126, 0.0747, 0.1519, 0.0815, 0.2182, 0.0608, 0.1317, 0.0351, 0.0214, -0.0199, -0.0778, -0.2454, 0.0724, -0.16, -0.0589, -0.0255, 0.0579, -0.035, -0.3259, 1.1741, 1.1722, 1.1719, 1.1693, 1.1686, 1.1672, 1.1664, 1.1654, 1.1652, 1.1648, 1.1643, 1.1638, 1.1636, 1.1635, 1.163, 1.163, 1.1629, 1.1624, 1.1623, 1.1621, 1.162, 1.1614, 1.1613, 1.1609, 1.1607, 1.1606, 1.1605, 1.1601, 1.1597, 1.1591, 1.1587, 1.159, 1.159, 1.1525, 1.1526, 1.1245, 1.1122, 1.141, 1.1582, 1.0644, 1.1423, 1.069, 1.0738, 1.0073, 1.0914, 0.7737, 0.9914, 1.0621, 1.0304, 0.9618, 0.9519, 0.4004, 0.4882, 0.6731, 0.8989, 0.4862, 0.575, 0.5408, 0.2886, 0.532, 0.8208, 0.36, 0.3657, 0.6094, 0.5038, 0.3758, 0.3843, 0.6937, 0.1565, 0.2825, 0.5132, 0.5513, 0.1218, 0.6019, -0.2547, -0.3304, 0.4536, 0.0437, 0.0555, 0.1259, 0.0749, 0.1517, -0.0844, -0.0501, -0.2876, 0.0436, -0.2215, -0.1931, 0.0119, -0.8679, -0.1529, 0.0075]}, \"token.table\": {\"Topic\": [1, 2, 1, 2, 1, 1, 2, 2, 1, 2, 1, 1, 2, 1, 2, 1, 2, 1, 2, 1, 2, 1, 2, 1, 2, 1, 2, 1, 1, 2, 1, 2, 1, 2, 1, 1, 1, 2, 1, 2, 1, 1, 2, 1, 2, 1, 1, 2, 1, 2, 1, 2, 1, 2, 1, 2, 1, 2, 1, 2, 1, 2, 2, 1, 1, 2, 2, 1, 2, 1, 2, 1, 2, 1, 2, 1, 1, 2, 1, 2, 1, 2, 1, 1, 2, 1, 2, 1, 2, 1, 2, 1, 2, 1, 2, 1, 2, 1, 2, 1, 2, 1, 2, 1, 1, 2, 1, 2, 1, 2, 1, 2, 1, 2, 1, 2, 1, 2, 1, 2, 1, 2, 1, 2, 1, 2, 1, 2, 1, 2, 1, 2, 1, 2, 1, 2, 1, 2, 1, 2, 1, 2, 2, 1, 2, 1, 2, 1, 2, 1, 2, 1, 2, 1, 2, 1, 2, 1, 1, 2, 1, 1, 2, 1, 2, 1, 1, 2, 1, 2, 1, 2, 1, 2, 1, 1, 2, 2, 1, 2, 1, 2, 1, 1, 2, 1, 2, 1, 2, 1, 2, 1, 1, 2, 2, 1, 2, 2, 1, 2, 1, 2, 1, 2, 2, 2, 1, 2, 1, 2, 1, 2, 1, 2, 1, 2, 1, 2, 2, 1, 2, 1, 2, 1, 2, 1, 2, 1, 2, 2, 1, 2, 1, 1, 2, 1, 2, 1, 2, 1, 1, 2, 2, 1, 2, 1, 2, 1, 2, 2, 1, 2, 1, 2, 1, 2, 1, 2, 1, 2, 1, 2, 1, 2, 1, 2, 1, 2, 1, 2, 1, 2, 1, 2, 2, 1, 2, 1, 2, 1, 2, 1, 2, 1, 1, 2, 1, 2, 1, 2, 1, 2, 1, 2, 1, 2, 1, 2], \"Freq\": [0.8417399568439577, 0.15900636729047607, 0.9959403118732664, 0.9626700995527276, 0.9955651079863738, 0.0369796961992936, 0.9984517973809273, 0.9861752938281427, 0.6798375523911492, 0.3202929808032204, 0.9971270472731201, 0.9973588658243753, 0.010177131283922197, 0.96499590755884, 0.03525695467400363, 0.679623149677429, 0.32002507807595393, 0.4549130961673992, 0.5450373888043368, 0.8071856746930851, 0.19273227693617398, 0.8934557824854644, 0.10577436215822879, 0.03821825529072229, 0.9936746375587797, 0.5189236704588646, 0.4818576939975171, 0.9842420916782268, 0.030146550042394277, 0.9646896013566169, 0.9963675134057937, 0.02119930879586795, 0.114759945100037, 0.8867813939548312, 0.9922142988972419, 0.9921027706071406, 0.15784829405112452, 0.8356674390941886, 0.4780673993069695, 0.5214049539183662, 0.999689834989291, 0.5535145546252987, 0.44616627736463477, 0.9415677659712904, 0.05752959873551673, 0.9961367785235746, 0.01684518395651887, 0.9770206694780944, 0.05876562545194565, 0.9402500072311304, 0.10113703353954707, 0.8975911726634803, 0.02545538611156921, 0.96730467223963, 0.03698557915332181, 0.961625057986367, 0.6430732304554143, 0.3563584427558836, 0.7456587873273117, 0.2543718940046348, 0.6760120993360214, 0.32385695921679164, 0.9762717161210799, 0.9906793016167907, 0.08001234927257936, 0.9201420166346627, 0.9775635775572674, 0.9916402744442743, 0.009627575480041497, 0.023394409739696618, 0.9825652090672579, 0.036986935757954975, 0.9986472654647843, 0.5425187185781523, 0.45736523757723796, 0.9956466208848364, 0.8037927191728819, 0.19617403297307914, 0.39948417193742186, 0.6009783814672619, 0.9776355549579402, 0.01827356177491477, 0.9970295305169045, 0.9753862345456452, 0.02216786896694648, 0.9677261549970693, 0.030967236959906216, 0.02491762242550632, 0.9717872745947465, 0.5018580962077147, 0.49833009553138635, 0.023386578982562953, 0.958849738285081, 0.718485493760499, 0.28141621772879827, 0.0309391075540292, 0.9591123341749052, 0.46841686123263876, 0.5324927526276695, 0.7546117389678435, 0.2453758930752755, 0.04093723504522143, 0.9824936410853143, 0.9874587749504463, 0.669862663515418, 0.3301623204621447, 0.9609470502994447, 0.04003946042914353, 0.801933546172846, 0.19771537134439005, 0.8713200283963969, 0.12860413442377827, 0.9864673213524912, 0.014506872372830751, 0.5585270433254846, 0.4416260342573599, 0.38549788965017795, 0.6140674348409914, 0.0382170430712421, 0.9936431198522946, 0.8569424962452382, 0.14282374937420636, 0.5650154120483388, 0.4354989852177741, 0.9662103662732212, 0.03534915974170322, 0.25000144392018564, 0.7500043317605568, 0.9309810287063055, 0.06973640664466707, 0.982328516328703, 0.017083974197020922, 0.9819841025292148, 0.01103352924190129, 0.9959731341310828, 0.007781040110399084, 0.03697839079111521, 0.9984165513601105, 0.6908271804918161, 0.30878478307045826, 0.02267390857780145, 0.9749780688454623, 0.9626610121973004, 0.8618724343444749, 0.13782980225346866, 0.17064376624808017, 0.8262750786749146, 0.1956737058710339, 0.8004833421996841, 0.6900479041002283, 0.3100553082612513, 0.9693015488636123, 0.03657741693824952, 0.560753645062475, 0.43945587077591125, 0.7797009491825562, 0.22022887150142925, 0.9995877326387671, 0.9958871482395617, 0.010483022613048018, 0.9892467026557722, 0.7525022333055814, 0.24770980989596542, 0.6540198943114939, 0.34618045382842877, 0.9896070767168, 0.02122693209205716, 0.9976658083266866, 0.49291630465200886, 0.5068012709802344, 0.48806495935486266, 0.5111231464109979, 0.7801221761960654, 0.21998981010290833, 0.9976691566806198, 0.14013900984023844, 0.8548479600254546, 0.9981934103769767, 0.9802479159029475, 0.02028099136350926, 0.5499710148769024, 0.44981654890890416, 0.9921742536311893, 0.7473300151122867, 0.2526185966576744, 0.7912565066788518, 0.20912497254028106, 0.9922830296879175, 0.008269025247399312, 0.9838282158256444, 0.015135818705009914, 0.9842386814467939, 0.9819960450360502, 0.019445466238337625, 0.9626612713288579, 0.04409039728846494, 0.9699887403462287, 0.9742337308501056, 0.990398568420705, 0.017375413481065, 0.8124595471729172, 0.18780887699414686, 0.33629375211353046, 0.6636196708373667, 0.9875385970159245, 0.9948525158283494, 0.033715459763670526, 0.9777483331464452, 0.6520703120498625, 0.3473875843792089, 0.855844157624209, 0.14491929825585648, 0.7842855430143144, 0.21538951297677836, 0.7370533333097414, 0.26277553622347305, 0.908869078899571, 0.09254802631092238, 0.9823014484782882, 0.047673525726468845, 0.9534705145293769, 0.7345503881013421, 0.2653441930586346, 0.4413234900615754, 0.5602429933715807, 0.8683001989978048, 0.13240532729501034, 0.9424524630819944, 0.05632186034354548, 0.9764984313739297, 0.9826150593648565, 0.01926696194833052, 0.989096552733911, 0.5008562667955526, 0.49924406851187597, 0.8865914059424879, 0.11393945779180567, 0.935234827885698, 0.06391892708571317, 0.9894058952569335, 0.7083614459168098, 0.2912084348348377, 0.9869551616425757, 0.5180034925795554, 0.4831025480440534, 0.3034889859775994, 0.6959316402589779, 0.9754125578218562, 0.02102182236685035, 0.9697836427986724, 0.20903222228316634, 0.7943224446760321, 0.9945379993042368, 0.007053460987973311, 0.9610595252274933, 0.04133589355817176, 0.47358268623649064, 0.5267796455123704, 0.030151269061463388, 0.9949918790282918, 0.6414798472330765, 0.3585585116250554, 0.4365616405090151, 0.5638921189908112, 0.9148036611189962, 0.08488800014332246, 0.020105298681553904, 0.9650543367145874, 0.036984370684765795, 0.9985780084886765, 0.9838293667433607, 0.018919795514295398, 0.017366034416807945, 0.9898639617580528, 0.9879774219214275, 0.933497782827055, 0.0662264581580875, 0.8148674868939773, 0.18565443304093981, 0.10768263984887455, 0.8922275873192463, 0.5936104410307939, 0.4067768759254843, 0.9933584182012741, 0.7760956137198392, 0.22405542935216224, 0.11544245737871188, 0.8905560997786345, 0.06646659721668856, 0.9305323610336398, 0.7700267608267998, 0.2299359794691644, 0.7624322289955935, 0.2374890033683685, 0.8139129613387451, 0.1860974415485483, 0.5909002176160157, 0.40883689221558006], \"Term\": [\"account\", \"account\", \"ada\", \"alligator\", \"ancillary\", \"bain\", \"bain\", \"bascombe\", \"beautiful\", \"beautiful\", \"beevor\", \"berlin\", \"berlin\", \"biography\", \"biography\", \"black\", \"black\", \"boy\", \"boy\", \"brilliant\", \"brilliant\", \"british\", \"british\", \"broom\", \"broom\", \"brother\", \"brother\", \"brownstein\", \"brunetti\", \"brunetti\", \"bryson\", \"bryson\", \"caldecott\", \"caldecott\", \"carr\\u00e9\", \"carr\\u00e9s\", \"chef\", \"chef\", \"child\", \"child\", \"churchill\", \"city\", \"city\", \"civil\", \"civil\", \"congress\", \"convenience\", \"convenience\", \"cookbook\", \"cookbook\", \"cooking\", \"cooking\", \"crayon\", \"crayon\", \"darius\", \"darius\", \"day\", \"day\", \"death\", \"death\", \"debut\", \"debut\", \"delphine\", \"deng\", \"elephant\", \"elephant\", \"ellie\", \"espionage\", \"espionage\", \"faerie\", \"faerie\", \"faludi\", \"faludi\", \"family\", \"family\", \"ferrante\", \"fiction\", \"fiction\", \"food\", \"food\", \"franklin\", \"franklin\", \"gamache\", \"german\", \"german\", \"germany\", \"germany\", \"ginny\", \"ginny\", \"girl\", \"girl\", \"goat\", \"goat\", \"good\", \"good\", \"gouache\", \"gouache\", \"graphic\", \"graphic\", \"great\", \"great\", \"habibi\", \"habibi\", \"hazel\", \"heart\", \"heart\", \"historian\", \"historian\", \"historical\", \"historical\", \"history\", \"history\", \"hitler\", \"hitler\", \"home\", \"home\", \"honor\", \"honor\", \"hosseini\", \"hosseini\", \"human\", \"human\", \"identity\", \"identity\", \"ii\", \"ii\", \"inequality\", \"inequality\", \"intellectual\", \"intellectual\", \"iraq\", \"iraq\", \"isaacson\", \"isaacson\", \"jefferson\", \"jefferson\", \"josie\", \"josie\", \"journal\", \"journal\", \"jude\", \"jude\", \"juli\\u00e1n\", \"justice\", \"justice\", \"kitchen\", \"kitchen\", \"korean\", \"korean\", \"last\", \"last\", \"le\", \"le\", \"library\", \"library\", \"life\", \"life\", \"lila\", \"lincoln\", \"lincoln\", \"lincolns\", \"literary\", \"literary\", \"love\", \"love\", \"macintyre\", \"macy\", \"macy\", \"magic\", \"magic\", \"magical\", \"magical\", \"man\", \"man\", \"meacham\", \"meat\", \"meat\", \"merci\", \"military\", \"military\", \"mother\", \"mother\", \"napoleon\", \"narrative\", \"narrative\", \"national\", \"national\", \"nazi\", \"nazi\", \"nazis\", \"nazis\", \"neapolitan\", \"nuclear\", \"nuclear\", \"n\\u00ed\", \"palestinian\", \"palestinian\", \"patchetts\", \"pennys\", \"pennys\", \"personal\", \"personal\", \"picture\", \"picture\", \"piketty\", \"pikettys\", \"pizza\", \"pizza\", \"place\", \"place\", \"political\", \"political\", \"power\", \"power\", \"powerful\", \"powerful\", \"president\", \"president\", \"raina\", \"readaloud\", \"readaloud\", \"real\", \"real\", \"red\", \"red\", \"research\", \"research\", \"revolution\", \"revolution\", \"rooney\", \"roosevelt\", \"roosevelt\", \"sandberg\", \"school\", \"school\", \"science\", \"science\", \"scientific\", \"scientific\", \"sedaris\", \"series\", \"series\", \"shuggie\", \"simple\", \"simple\", \"sky\", \"sky\", \"slavery\", \"slavery\", \"smarsh\", \"snow\", \"snow\", \"soviet\", \"soviet\", \"spy\", \"spy\", \"summer\", \"summer\", \"tacos\", \"tacos\", \"tale\", \"tale\", \"text\", \"text\", \"thriller\", \"thriller\", \"trethewey\", \"trethewey\", \"tweedy\", \"tweedy\", \"undocumented\", \"undocumented\", \"unicorn\", \"unicorn\", \"venn\", \"war\", \"war\", \"washington\", \"washington\", \"watercolor\", \"watercolor\", \"white\", \"white\", \"winston\", \"woman\", \"woman\", \"woodson\", \"woodson\", \"wordless\", \"wordless\", \"work\", \"work\", \"world\", \"world\", \"writer\", \"writer\", \"young\", \"young\"]}, \"R\": 30, \"lambda.step\": 0.01, \"plot.opts\": {\"xlab\": \"PC1\", \"ylab\": \"PC2\"}, \"topic.order\": [1, 2]};\n",
       "\n",
       "function LDAvis_load_lib(url, callback){\n",
       "  var s = document.createElement('script');\n",
       "  s.src = url;\n",
       "  s.async = true;\n",
       "  s.onreadystatechange = s.onload = callback;\n",
       "  s.onerror = function(){console.warn(\"failed to load library \" + url);};\n",
       "  document.getElementsByTagName(\"head\")[0].appendChild(s);\n",
       "}\n",
       "\n",
       "if(typeof(LDAvis) !== \"undefined\"){\n",
       "   // already loaded: just create the visualization\n",
       "   !function(LDAvis){\n",
       "       new LDAvis(\"#\" + \"ldavis_el791341402110685961127001328939\", ldavis_el791341402110685961127001328939_data);\n",
       "   }(LDAvis);\n",
       "}else if(typeof define === \"function\" && define.amd){\n",
       "   // require.js is available: use it to load d3/LDAvis\n",
       "   require.config({paths: {d3: \"https://d3js.org/d3.v5\"}});\n",
       "   require([\"d3\"], function(d3){\n",
       "      window.d3 = d3;\n",
       "      LDAvis_load_lib(\"https://cdn.jsdelivr.net/gh/bmabey/pyLDAvis@3.3.1/pyLDAvis/js/ldavis.v3.0.0.js\", function(){\n",
       "        new LDAvis(\"#\" + \"ldavis_el791341402110685961127001328939\", ldavis_el791341402110685961127001328939_data);\n",
       "      });\n",
       "    });\n",
       "}else{\n",
       "    // require.js not available: dynamically load d3 & LDAvis\n",
       "    LDAvis_load_lib(\"https://d3js.org/d3.v5.js\", function(){\n",
       "         LDAvis_load_lib(\"https://cdn.jsdelivr.net/gh/bmabey/pyLDAvis@3.3.1/pyLDAvis/js/ldavis.v3.0.0.js\", function(){\n",
       "                 new LDAvis(\"#\" + \"ldavis_el791341402110685961127001328939\", ldavis_el791341402110685961127001328939_data);\n",
       "            })\n",
       "         });\n",
       "}\n",
       "</script>"
      ],
      "text/plain": [
       "PreparedData(topic_coordinates=              x    y  topics  cluster       Freq\n",
       "topic                                           \n",
       "0      0.041815  0.0       1        1  69.352533\n",
       "1     -0.041815  0.0       2        1  30.647467, topic_info=          Term         Freq        Total Category  logprob  loglift\n",
       "431     family  3734.000000  3734.000000  Default  30.0000  30.0000\n",
       "145     school  1860.000000  1860.000000  Default  29.0000  29.0000\n",
       "803      young  2482.000000  2482.000000  Default  28.0000  28.0000\n",
       "124    picture   669.000000   669.000000  Default  27.0000  27.0000\n",
       "253       girl  1133.000000  1133.000000  Default  26.0000  26.0000\n",
       "..         ...          ...          ...      ...      ...      ...\n",
       "490  narrative   504.091693  1995.102525   Topic2  -6.2733  -0.1931\n",
       "692       last   399.094238  1286.867179   Topic2  -6.5068   0.0119\n",
       "69     history   476.224337  3701.280695   Topic2  -6.3302  -0.8679\n",
       "933   powerful   410.383631  1560.267009   Topic2  -6.4789  -0.1529\n",
       "84     journal   391.994210  1269.492609   Topic2  -6.5248   0.0075\n",
       "\n",
       "[212 rows x 6 columns], token_table=       Topic      Freq       Term\n",
       "term                             \n",
       "3890       1  0.841740    account\n",
       "3890       2  0.159006    account\n",
       "11574      1  0.995940        ada\n",
       "6274       2  0.962670  alligator\n",
       "26577      1  0.995565  ancillary\n",
       "...      ...       ...        ...\n",
       "572        2  0.237489      world\n",
       "800        1  0.813913     writer\n",
       "800        2  0.186097     writer\n",
       "803        1  0.590900      young\n",
       "803        2  0.408837      young\n",
       "\n",
       "[298 rows x 3 columns], R=30, lambda_step=0.01, plot_opts={'xlab': 'PC1', 'ylab': 'PC2'}, topic_order=[1, 2])"
      ]
     },
     "execution_count": 300,
     "metadata": {},
     "output_type": "execute_result"
    }
   ],
   "source": [
    "pyLDAvis.enable_notebook()\n",
    "p = pyLDAvis.gensim_models.prepare(ldamodel, bow_corpus, dictionary)\n",
    "p"
   ]
  },
  {
   "cell_type": "code",
   "execution_count": 227,
   "metadata": {},
   "outputs": [],
   "source": [
    "def fill_topic_weights(df_row, bow_corpus, ldamodel):\n",
    "    '''\n",
    "    Fill DataFrame rows with topic weights for topics in texts.\n",
    "    \n",
    "    Modifies DataFrame rows *in place*.\n",
    "    '''\n",
    "    try:\n",
    "        for i in ldamodel[bow_corpus[df_row.name]]:\n",
    "            df_row[str(i[0])] = i[1]\n",
    "    except:\n",
    "        return df_row\n",
    "    return df_row"
   ]
  },
  {
   "cell_type": "code",
   "execution_count": 303,
   "metadata": {},
   "outputs": [],
   "source": [
    "df3_topics = df3.apply(fill_topic_weights,\n",
    "                             axis=1,\n",
    "                             args=[bow_corpus, ldamodel]) \\\n",
    "                      .fillna(0)"
   ]
  },
  {
   "cell_type": "code",
   "execution_count": 304,
   "metadata": {},
   "outputs": [
    {
     "data": {
      "text/html": [
       "<div>\n",
       "<style scoped>\n",
       "    .dataframe tbody tr th:only-of-type {\n",
       "        vertical-align: middle;\n",
       "    }\n",
       "\n",
       "    .dataframe tbody tr th {\n",
       "        vertical-align: top;\n",
       "    }\n",
       "\n",
       "    .dataframe thead th {\n",
       "        text-align: right;\n",
       "    }\n",
       "</style>\n",
       "<table border=\"1\" class=\"dataframe\">\n",
       "  <thead>\n",
       "    <tr style=\"text-align: right;\">\n",
       "      <th></th>\n",
       "      <th>0</th>\n",
       "      <th>1</th>\n",
       "      <th>Format</th>\n",
       "      <th>NewTokens</th>\n",
       "      <th>Text</th>\n",
       "      <th>Tokens</th>\n",
       "      <th>Unnamed: 0</th>\n",
       "      <th>Year</th>\n",
       "    </tr>\n",
       "  </thead>\n",
       "  <tbody>\n",
       "    <tr>\n",
       "      <th>0</th>\n",
       "      <td>0.000000</td>\n",
       "      <td>0.996717</td>\n",
       "      <td>[(caldecott, NN), (honor, NN), (artist, NN), (...</td>\n",
       "      <td>[caldecott, honor, artist, sweet, perfect, day...</td>\n",
       "      <td>From Caldecott Honor artist Melissa Sweet come...</td>\n",
       "      <td>[caldecott, honor, artist, melissa, sweet, com...</td>\n",
       "      <td>0</td>\n",
       "      <td>2011</td>\n",
       "    </tr>\n",
       "    <tr>\n",
       "      <th>1</th>\n",
       "      <td>0.997121</td>\n",
       "      <td>0.000000</td>\n",
       "      <td>[(hugo, NN), (awardwinning, VBG), (comes, VBZ)...</td>\n",
       "      <td>[hugo, modern, masterwork, science, fiction, c...</td>\n",
       "      <td>From a New York Times bestselling and Hugo awa...</td>\n",
       "      <td>[hugo, awardwinning, comes, modern, masterwork...</td>\n",
       "      <td>1</td>\n",
       "      <td>2011</td>\n",
       "    </tr>\n",
       "    <tr>\n",
       "      <th>2</th>\n",
       "      <td>0.997018</td>\n",
       "      <td>0.000000</td>\n",
       "      <td>[(masterpiece, JJ), (postwar, JJ), (polish, JJ...</td>\n",
       "      <td>[masterpiece, postwar, polish, literature, sto...</td>\n",
       "      <td>A masterpiece of postwar Polish literature, St...</td>\n",
       "      <td>[masterpiece, postwar, polish, literature, sto...</td>\n",
       "      <td>2</td>\n",
       "      <td>2011</td>\n",
       "    </tr>\n",
       "    <tr>\n",
       "      <th>3</th>\n",
       "      <td>0.997244</td>\n",
       "      <td>0.000000</td>\n",
       "      <td>[(1, CD), (timesbestselling, VBG), (lincoln, J...</td>\n",
       "      <td>[lincoln, highway, gentleman, stylish, boston,...</td>\n",
       "      <td>From the #1 New York Times-bestselling author ...</td>\n",
       "      <td>[1, timesbestselling, lincoln, highway, gentle...</td>\n",
       "      <td>3</td>\n",
       "      <td>2011</td>\n",
       "    </tr>\n",
       "    <tr>\n",
       "      <th>4</th>\n",
       "      <td>0.174171</td>\n",
       "      <td>0.825829</td>\n",
       "      <td>[(timesbestselling, VBG), (souls, NNS), (trilo...</td>\n",
       "      <td>[imaginative, grownup, fantasy, magic, potter,...</td>\n",
       "      <td>Book one of the New York Times-bestselling All...</td>\n",
       "      <td>[timesbestselling, souls, trilogya, wonderfull...</td>\n",
       "      <td>4</td>\n",
       "      <td>2011</td>\n",
       "    </tr>\n",
       "  </tbody>\n",
       "</table>\n",
       "</div>"
      ],
      "text/plain": [
       "          0         1                                             Format  \\\n",
       "0  0.000000  0.996717  [(caldecott, NN), (honor, NN), (artist, NN), (...   \n",
       "1  0.997121  0.000000  [(hugo, NN), (awardwinning, VBG), (comes, VBZ)...   \n",
       "2  0.997018  0.000000  [(masterpiece, JJ), (postwar, JJ), (polish, JJ...   \n",
       "3  0.997244  0.000000  [(1, CD), (timesbestselling, VBG), (lincoln, J...   \n",
       "4  0.174171  0.825829  [(timesbestselling, VBG), (souls, NNS), (trilo...   \n",
       "\n",
       "                                           NewTokens  \\\n",
       "0  [caldecott, honor, artist, sweet, perfect, day...   \n",
       "1  [hugo, modern, masterwork, science, fiction, c...   \n",
       "2  [masterpiece, postwar, polish, literature, sto...   \n",
       "3  [lincoln, highway, gentleman, stylish, boston,...   \n",
       "4  [imaginative, grownup, fantasy, magic, potter,...   \n",
       "\n",
       "                                                Text  \\\n",
       "0  From Caldecott Honor artist Melissa Sweet come...   \n",
       "1  From a New York Times bestselling and Hugo awa...   \n",
       "2  A masterpiece of postwar Polish literature, St...   \n",
       "3  From the #1 New York Times-bestselling author ...   \n",
       "4  Book one of the New York Times-bestselling All...   \n",
       "\n",
       "                                              Tokens  Unnamed: 0  Year  \n",
       "0  [caldecott, honor, artist, melissa, sweet, com...           0  2011  \n",
       "1  [hugo, awardwinning, comes, modern, masterwork...           1  2011  \n",
       "2  [masterpiece, postwar, polish, literature, sto...           2  2011  \n",
       "3  [1, timesbestselling, lincoln, highway, gentle...           3  2011  \n",
       "4  [timesbestselling, souls, trilogya, wonderfull...           4  2011  "
      ]
     },
     "execution_count": 304,
     "metadata": {},
     "output_type": "execute_result"
    }
   ],
   "source": [
    "df3_topics.head()"
   ]
  },
  {
   "cell_type": "code",
   "execution_count": 305,
   "metadata": {},
   "outputs": [
    {
     "data": {
      "image/png": "[encoded data removed]",
      "text/plain": [
       "<Figure size 432x288 with 1 Axes>"
      ]
     },
     "metadata": {
      "needs_background": "light"
     },
     "output_type": "display_data"
    }
   ],
   "source": [
    "#what happen in 2015? \n",
    "cols = ['Year', '0', '1']\n",
    "df3_topics[cols].groupby(['Year']) \\\n",
    "                  .mean() \\\n",
    "                  .plot();"
   ]
  },
  {
   "cell_type": "markdown",
   "metadata": {},
   "source": [
    "## Dynamic Topic Modeling "
   ]
  },
  {
   "cell_type": "code",
   "execution_count": 341,
   "metadata": {},
   "outputs": [],
   "source": [
    "!pip install ipywidgets"
   ]
  },
  {
   "cell_type": "code",
   "execution_count": 308,
   "metadata": {},
   "outputs": [],
   "source": [
    "from gensim.models import LdaSeqModel\n",
    "from ipywidgets import interact"
   ]
  },
  {
   "cell_type": "code",
   "execution_count": 309,
   "metadata": {},
   "outputs": [],
   "source": [
    "DTM =pd.read_csv('B&N_ALL_TEXTS.csv')"
   ]
  },
  {
   "cell_type": "code",
   "execution_count": 310,
   "metadata": {},
   "outputs": [
    {
     "data": {
      "text/html": [
       "<div>\n",
       "<style scoped>\n",
       "    .dataframe tbody tr th:only-of-type {\n",
       "        vertical-align: middle;\n",
       "    }\n",
       "\n",
       "    .dataframe tbody tr th {\n",
       "        vertical-align: top;\n",
       "    }\n",
       "\n",
       "    .dataframe thead th {\n",
       "        text-align: right;\n",
       "    }\n",
       "</style>\n",
       "<table border=\"1\" class=\"dataframe\">\n",
       "  <thead>\n",
       "    <tr style=\"text-align: right;\">\n",
       "      <th></th>\n",
       "      <th>Unnamed: 0</th>\n",
       "      <th>Text</th>\n",
       "      <th>Year</th>\n",
       "    </tr>\n",
       "  </thead>\n",
       "  <tbody>\n",
       "    <tr>\n",
       "      <th>0</th>\n",
       "      <td>0</td>\n",
       "      <td>From Caldecott Honor artist Melissa Sweet come...</td>\n",
       "      <td>2011</td>\n",
       "    </tr>\n",
       "    <tr>\n",
       "      <th>1</th>\n",
       "      <td>1</td>\n",
       "      <td>From a New York Times bestselling and Hugo awa...</td>\n",
       "      <td>2011</td>\n",
       "    </tr>\n",
       "    <tr>\n",
       "      <th>2</th>\n",
       "      <td>2</td>\n",
       "      <td>A masterpiece of postwar Polish literature, St...</td>\n",
       "      <td>2011</td>\n",
       "    </tr>\n",
       "    <tr>\n",
       "      <th>3</th>\n",
       "      <td>3</td>\n",
       "      <td>From the #1 New York Times-bestselling author ...</td>\n",
       "      <td>2011</td>\n",
       "    </tr>\n",
       "    <tr>\n",
       "      <th>4</th>\n",
       "      <td>4</td>\n",
       "      <td>Book one of the New York Times-bestselling All...</td>\n",
       "      <td>2011</td>\n",
       "    </tr>\n",
       "    <tr>\n",
       "      <th>...</th>\n",
       "      <td>...</td>\n",
       "      <td>...</td>\n",
       "      <td>...</td>\n",
       "    </tr>\n",
       "    <tr>\n",
       "      <th>2195</th>\n",
       "      <td>195</td>\n",
       "      <td>“A haunted work, full of voices old and new. I...</td>\n",
       "      <td>2021</td>\n",
       "    </tr>\n",
       "    <tr>\n",
       "      <th>2196</th>\n",
       "      <td>196</td>\n",
       "      <td>ONE OF THE BEST BOOKS OF THE YEAR! - Publisher...</td>\n",
       "      <td>2021</td>\n",
       "    </tr>\n",
       "    <tr>\n",
       "      <th>2197</th>\n",
       "      <td>197</td>\n",
       "      <td>“Much more than a page-turner. It’s the first ...</td>\n",
       "      <td>2021</td>\n",
       "    </tr>\n",
       "    <tr>\n",
       "      <th>2198</th>\n",
       "      <td>198</td>\n",
       "      <td>Three kids who don’t belong. A room that shoul...</td>\n",
       "      <td>2021</td>\n",
       "    </tr>\n",
       "    <tr>\n",
       "      <th>2199</th>\n",
       "      <td>199</td>\n",
       "      <td>This illuminating and defining picture book bi...</td>\n",
       "      <td>2021</td>\n",
       "    </tr>\n",
       "  </tbody>\n",
       "</table>\n",
       "<p>2200 rows × 3 columns</p>\n",
       "</div>"
      ],
      "text/plain": [
       "      Unnamed: 0                                               Text  Year\n",
       "0              0  From Caldecott Honor artist Melissa Sweet come...  2011\n",
       "1              1  From a New York Times bestselling and Hugo awa...  2011\n",
       "2              2  A masterpiece of postwar Polish literature, St...  2011\n",
       "3              3  From the #1 New York Times-bestselling author ...  2011\n",
       "4              4  Book one of the New York Times-bestselling All...  2011\n",
       "...          ...                                                ...   ...\n",
       "2195         195  “A haunted work, full of voices old and new. I...  2021\n",
       "2196         196  ONE OF THE BEST BOOKS OF THE YEAR! - Publisher...  2021\n",
       "2197         197  “Much more than a page-turner. It’s the first ...  2021\n",
       "2198         198  Three kids who don’t belong. A room that shoul...  2021\n",
       "2199         199  This illuminating and defining picture book bi...  2021\n",
       "\n",
       "[2200 rows x 3 columns]"
      ]
     },
     "execution_count": 310,
     "metadata": {},
     "output_type": "execute_result"
    }
   ],
   "source": [
    "DTM"
   ]
  },
  {
   "cell_type": "code",
   "execution_count": 311,
   "metadata": {},
   "outputs": [],
   "source": [
    "time_slice = DTM.groupby('Year')['Text'].count().to_list()"
   ]
  },
  {
   "cell_type": "code",
   "execution_count": 313,
   "metadata": {},
   "outputs": [
    {
     "name": "stdout",
     "output_type": "stream",
     "text": [
      "Documents in Time Slice 0: 200\n",
      "Documents in Time Slice 1: 200\n",
      "Documents in Time Slice 2: 200\n",
      "Documents in Time Slice 3: 200\n",
      "Documents in Time Slice 4: 200\n",
      "Documents in Time Slice 5: 200\n",
      "Documents in Time Slice 6: 200\n",
      "Documents in Time Slice 7: 200\n",
      "Documents in Time Slice 8: 200\n",
      "Documents in Time Slice 9: 200\n",
      "Documents in Time Slice 10: 200\n"
     ]
    }
   ],
   "source": [
    "for i in range(len(time_slice)):\n",
    "    print(\"Documents in Time Slice {}:\".format(i), time_slice[i])"
   ]
  },
  {
   "cell_type": "code",
   "execution_count": 314,
   "metadata": {},
   "outputs": [],
   "source": [
    "def tokenize_ob(text_series):\n",
    "    '''\n",
    "    Cleans, tokenizes + stems Pandas series of strings from\n",
    "    the Old Bailey dataset.\n",
    "    \n",
    "    Returns pandas series of lists of tokens\n",
    "    '''\n",
    "    # Clean text with regex\n",
    "    ob_regex = r\"[^a-z\\s]\"\n",
    "    clean = text_series.str.lower() \\\n",
    "                       .str.replace(ob_regex,\n",
    "                                    \"\",\n",
    "                                    regex=True)\n",
    "\n",
    "    # Anonymous tokenizer + stemmer functions\n",
    "    stopwords = nltk.corpus.stopwords.words('english')\n",
    "    defined = ['book', 'books','read', 'story','stories','character','characters', 'help', 'author', 'authors',\n",
    "               'write','much','many','little','less','im','time','times','new','york','one','best','bestselling', \n",
    "              'year', 'like','first','people','even','also','america','american','novel','readers','us','review','one',\n",
    "              'two','three','four','five','years','makes','make','written','writing','way','reviews','never']\n",
    "    stopwords = stopwords + defined\n",
    "    \n",
    "    tokenize = lambda text: [i for i in nltk.word_tokenize(text) if i not in stopwords]\n",
    "    stemmer = lambda tokens: [SnowballStemmer('english').stem(token) for token in tokens]\n",
    "\n",
    "    # Tokenize and stem clean text\n",
    "    tokens = clean.apply(tokenize)\n",
    "    stemmed_tokens = tokens.apply(stemmer)\n",
    "    \n",
    "    return stemmed_tokens"
   ]
  },
  {
   "cell_type": "code",
   "execution_count": 315,
   "metadata": {},
   "outputs": [
    {
     "data": {
      "text/plain": [
       "0    [caldecott, honor, artist, melissa, sweet, com...\n",
       "1    [hugo, awardwin, come, modern, masterwork, sci...\n",
       "2    [masterpiec, postwar, polish, literatur, stone...\n",
       "3    [timesbestsel, lincoln, highway, gentleman, mo...\n",
       "4    [timesbestsel, soul, trilogya, wonder, imagin,...\n",
       "Name: Text, dtype: object"
      ]
     },
     "execution_count": 315,
     "metadata": {},
     "output_type": "execute_result"
    }
   ],
   "source": [
    "stemmed_tokens = tokenize_ob(DTM['Text'])\n",
    "\n",
    "stemmed_tokens.head()"
   ]
  },
  {
   "cell_type": "code",
   "execution_count": 317,
   "metadata": {},
   "outputs": [],
   "source": [
    "dictionary, bow_corpus = prepare_data(stemmed_tokens)"
   ]
  },
  {
   "cell_type": "code",
   "execution_count": 319,
   "metadata": {},
   "outputs": [
    {
     "name": "stderr",
     "output_type": "stream",
     "text": [
      "/Library/Frameworks/Python.framework/Versions/3.9/lib/python3.9/site-packages/gensim/models/ldaseqmodel.py:297: RuntimeWarning: divide by zero encountered in double_scalars\n",
      "  convergence = np.fabs((bound - old_bound) / old_bound)\n"
     ]
    }
   ],
   "source": [
    "ldaseq = LdaSeqModel(bow_corpus,\n",
    "                     time_slice,\n",
    "                     id2word=dictionary,\n",
    "                     num_topics=3)"
   ]
  },
  {
   "cell_type": "code",
   "execution_count": 321,
   "metadata": {},
   "outputs": [],
   "source": [
    "ldaseq.save('dtm.model')"
   ]
  },
  {
   "cell_type": "code",
   "execution_count": 322,
   "metadata": {},
   "outputs": [],
   "source": [
    "def dtm_coherence(list_dtms, bow_corpus, dictionary, n_time_slices):\n",
    "    '''\n",
    "    Computes UMass Coherence for each time slice in a list of DTMs\n",
    "    \n",
    "    Input: List of Gensim LdaSeqModels, number of time slices modeled (int)\n",
    "    Returns: Dict of lists of coherence scores for each DTM\n",
    "    '''\n",
    "    coherence = {}\n",
    "    for i, ldaseq in enumerate(list_dtms):\n",
    "        coherence[i] = []\n",
    "        for t in range(n_time_slices):\n",
    "            topics_dtm = ldaseq.dtm_coherence(t)\n",
    "            cm_DTM = CoherenceModel(topics=topics_dtm,\n",
    "                                    corpus=bow_corpus,\n",
    "                                    dictionary=dictionary,\n",
    "                                    coherence='u_mass')\n",
    "\n",
    "            coherence[i].append(cm_DTM.get_coherence())\n",
    "            \n",
    "        return coherence"
   ]
  },
  {
   "cell_type": "code",
   "execution_count": 325,
   "metadata": {},
   "outputs": [],
   "source": [
    "from gensim.models.coherencemodel import CoherenceModel"
   ]
  },
  {
   "cell_type": "code",
   "execution_count": 326,
   "metadata": {},
   "outputs": [
    {
     "name": "stdout",
     "output_type": "stream",
     "text": [
      "Coherence at Time Slice 0: -0.7100635495911396\n",
      "Coherence at Time Slice 1: -0.6995631847000848\n",
      "Coherence at Time Slice 2: -0.7177209612866372\n",
      "Coherence at Time Slice 3: -0.7312825819420753\n",
      "Coherence at Time Slice 4: -0.763487002727917\n",
      "Coherence at Time Slice 5: -0.7389201987822392\n",
      "Coherence at Time Slice 6: -0.696039190409894\n",
      "Coherence at Time Slice 7: -0.7505792555378488\n",
      "Coherence at Time Slice 8: -0.7748208762058789\n",
      "Coherence at Time Slice 9: -0.7794919476353471\n",
      "Coherence at Time Slice 10: -0.7839079274971921\n",
      "Average Coherence:  -0.7405342433014777\n"
     ]
    }
   ],
   "source": [
    "coherence = dtm_coherence([ldaseq],\n",
    "                              bow_corpus,\n",
    "                              dictionary,\n",
    "                              n_time_slices=len(time_slice))\n",
    "\n",
    "# Can check coherence for each model at each time slice\n",
    "for i, score in enumerate(coherence[0]):\n",
    "    print(\"Coherence at Time Slice {}:\".format(i), score)\n",
    "\n",
    "# As well as compute averages for overall comparison of models\n",
    "print(\"Average Coherence: \", \n",
    "      sum(coherence[0]) / len(coherence[0]))"
   ]
  },
  {
   "cell_type": "code",
   "execution_count": 328,
   "metadata": {},
   "outputs": [],
   "source": [
    "def print_dtm(dtm, n_topics, n_time_slices):\n",
    "    '''\n",
    "    Prints out top words in each topic across time slices for visual comparison\n",
    "    \n",
    "    Input: Gensim LdaSeqModel, n_topics (int), n_time_slices (int)\n",
    "    '''\n",
    "    for topic in range(n_topics):\n",
    "        for time in range(n_time_slices): \n",
    "            print(\"##### Topic {}, Time Slice {} #####\".format(topic, time))    \n",
    "            print(dtm.dtm_coherence(time)[topic][:10])    \n",
    "        print(\"\\n\")"
   ]
  },
  {
   "cell_type": "code",
   "execution_count": 329,
   "metadata": {},
   "outputs": [
    {
     "name": "stdout",
     "output_type": "stream",
     "text": [
      "##### Topic 0, Time Slice 0 #####\n",
      "['famili', 'love', 'children', 'star', 'school', 'illustr', 'life', 'find', 'page', 'work']\n",
      "##### Topic 0, Time Slice 1 #####\n",
      "['love', 'famili', 'star', 'children', 'school', 'life', 'illustr', 'find', 'humor', 'funni']\n",
      "##### Topic 0, Time Slice 2 #####\n",
      "['love', 'famili', 'star', 'life', 'school', 'children', 'illustr', 'find', 'humor', 'funni']\n",
      "##### Topic 0, Time Slice 3 #####\n",
      "['love', 'star', 'famili', 'life', 'school', 'illustr', 'find', 'children', 'humor', 'funni']\n",
      "##### Topic 0, Time Slice 4 #####\n",
      "['love', 'star', 'life', 'famili', 'school', 'find', 'children', 'illustr', 'humor', 'girl']\n",
      "##### Topic 0, Time Slice 5 #####\n",
      "['love', 'star', 'life', 'famili', 'school', 'girl', 'children', 'find', 'world', 'illustr']\n",
      "##### Topic 0, Time Slice 6 #####\n",
      "['love', 'star', 'life', 'famili', 'school', 'girl', 'find', 'world', 'children', 'illustr']\n",
      "##### Topic 0, Time Slice 7 #####\n",
      "['love', 'star', 'life', 'famili', 'school', 'librari', 'find', 'illustr', 'children', 'feel']\n",
      "##### Topic 0, Time Slice 8 #####\n",
      "['love', 'life', 'star', 'famili', 'school', 'illustr', 'friend', 'librari', 'world', 'feel']\n",
      "##### Topic 0, Time Slice 9 #####\n",
      "['love', 'life', 'star', 'famili', 'world', 'school', 'illustr', 'find', 'feel', 'friend']\n",
      "##### Topic 0, Time Slice 10 #####\n",
      "['love', 'life', 'famili', 'star', 'world', 'illustr', 'feel', 'find', 'school', 'friend']\n",
      "\n",
      "\n",
      "##### Topic 1, Time Slice 0 #####\n",
      "['histori', 'life', 'world', 'war', 'work', 'live', 'narrat', 'human', 'power', 'great']\n",
      "##### Topic 1, Time Slice 1 #####\n",
      "['life', 'histori', 'world', 'war', 'work', 'live', 'power', 'human', 'narrat', 'great']\n",
      "##### Topic 1, Time Slice 2 #####\n",
      "['life', 'histori', 'world', 'work', 'war', 'live', 'narrat', 'power', 'human', 'great']\n",
      "##### Topic 1, Time Slice 3 #####\n",
      "['life', 'histori', 'world', 'work', 'war', 'live', 'narrat', 'power', 'human', 'writer']\n",
      "##### Topic 1, Time Slice 4 #####\n",
      "['life', 'histori', 'work', 'live', 'world', 'war', 'narrat', 'power', 'famili', 'writer']\n",
      "##### Topic 1, Time Slice 5 #####\n",
      "['histori', 'life', 'work', 'live', 'world', 'war', 'famili', 'power', 'narrat', 'women']\n",
      "##### Topic 1, Time Slice 6 #####\n",
      "['histori', 'work', 'famili', 'life', 'live', 'world', 'power', 'war', 'women', 'narrat']\n",
      "##### Topic 1, Time Slice 7 #####\n",
      "['histori', 'work', 'famili', 'life', 'live', 'power', 'world', 'women', 'narrat', 'human']\n",
      "##### Topic 1, Time Slice 8 #####\n",
      "['histori', 'work', 'famili', 'power', 'life', 'live', 'women', 'world', 'narrat', 'black']\n",
      "##### Topic 1, Time Slice 9 #####\n",
      "['histori', 'famili', 'work', 'life', 'power', 'live', 'women', 'world', 'black', 'narrat']\n",
      "##### Topic 1, Time Slice 10 #####\n",
      "['histori', 'famili', 'work', 'life', 'power', 'live', 'black', 'women', 'world', 'human']\n",
      "\n",
      "\n",
      "##### Topic 2, Time Slice 0 #####\n",
      "['mysteri', 'plot', 'world', 'tale', 'love', 'seri', 'fiction', 'find', 'star', 'turn']\n",
      "##### Topic 2, Time Slice 1 #####\n",
      "['mysteri', 'tale', 'love', 'world', 'plot', 'fiction', 'seri', 'star', 'find', 'thriller']\n",
      "##### Topic 2, Time Slice 2 #####\n",
      "['mysteri', 'tale', 'love', 'world', 'plot', 'fiction', 'find', 'star', 'thriller', 'seri']\n",
      "##### Topic 2, Time Slice 3 #####\n",
      "['tale', 'mysteri', 'love', 'plot', 'world', 'fiction', 'find', 'thriller', 'star', 'murder']\n",
      "##### Topic 2, Time Slice 4 #####\n",
      "['mysteri', 'tale', 'love', 'plot', 'world', 'fiction', 'thriller', 'find', 'star', 'murder']\n",
      "##### Topic 2, Time Slice 5 #####\n",
      "['mysteri', 'tale', 'world', 'love', 'plot', 'find', 'thriller', 'fiction', 'murder', 'seri']\n",
      "##### Topic 2, Time Slice 6 #####\n",
      "['mysteri', 'world', 'love', 'tale', 'plot', 'seri', 'find', 'thriller', 'murder', 'star']\n",
      "##### Topic 2, Time Slice 7 #####\n",
      "['mysteri', 'world', 'love', 'seri', 'thriller', 'plot', 'tale', 'find', 'star', 'set']\n",
      "##### Topic 2, Time Slice 8 #####\n",
      "['mysteri', 'world', 'love', 'seri', 'thriller', 'star', 'find', 'plot', 'secret', 'set']\n",
      "##### Topic 2, Time Slice 9 #####\n",
      "['mysteri', 'world', 'love', 'seri', 'thriller', 'murder', 'find', 'plot', 'star', 'magic']\n",
      "##### Topic 2, Time Slice 10 #####\n",
      "['world', 'mysteri', 'love', 'thriller', 'seri', 'plot', 'murder', 'magic', 'set', 'find']\n",
      "\n",
      "\n"
     ]
    }
   ],
   "source": [
    "print_dtm(ldaseq, n_topics=3, n_time_slices=11)"
   ]
  },
  {
   "cell_type": "markdown",
   "metadata": {},
   "source": [
    "## dominant topics over time"
   ]
  },
  {
   "cell_type": "code",
   "execution_count": 330,
   "metadata": {},
   "outputs": [
    {
     "data": {
      "text/html": [
       "<div>\n",
       "<style scoped>\n",
       "    .dataframe tbody tr th:only-of-type {\n",
       "        vertical-align: middle;\n",
       "    }\n",
       "\n",
       "    .dataframe tbody tr th {\n",
       "        vertical-align: top;\n",
       "    }\n",
       "\n",
       "    .dataframe thead th {\n",
       "        text-align: right;\n",
       "    }\n",
       "</style>\n",
       "<table border=\"1\" class=\"dataframe\">\n",
       "  <thead>\n",
       "    <tr style=\"text-align: right;\">\n",
       "      <th></th>\n",
       "      <th>index</th>\n",
       "      <th>Unnamed: 0</th>\n",
       "      <th>Text</th>\n",
       "      <th>Year</th>\n",
       "      <th>topic0</th>\n",
       "      <th>topic1</th>\n",
       "      <th>topic2</th>\n",
       "    </tr>\n",
       "  </thead>\n",
       "  <tbody>\n",
       "    <tr>\n",
       "      <th>0</th>\n",
       "      <td>0</td>\n",
       "      <td>0</td>\n",
       "      <td>From Caldecott Honor artist Melissa Sweet come...</td>\n",
       "      <td>2011</td>\n",
       "      <td>0.927162</td>\n",
       "      <td>0.072820</td>\n",
       "      <td>0.000018</td>\n",
       "    </tr>\n",
       "    <tr>\n",
       "      <th>1</th>\n",
       "      <td>1</td>\n",
       "      <td>1</td>\n",
       "      <td>From a New York Times bestselling and Hugo awa...</td>\n",
       "      <td>2011</td>\n",
       "      <td>0.000022</td>\n",
       "      <td>0.033485</td>\n",
       "      <td>0.966493</td>\n",
       "    </tr>\n",
       "    <tr>\n",
       "      <th>2</th>\n",
       "      <td>2</td>\n",
       "      <td>2</td>\n",
       "      <td>A masterpiece of postwar Polish literature, St...</td>\n",
       "      <td>2011</td>\n",
       "      <td>0.123182</td>\n",
       "      <td>0.876799</td>\n",
       "      <td>0.000019</td>\n",
       "    </tr>\n",
       "    <tr>\n",
       "      <th>3</th>\n",
       "      <td>3</td>\n",
       "      <td>3</td>\n",
       "      <td>From the #1 New York Times-bestselling author ...</td>\n",
       "      <td>2011</td>\n",
       "      <td>0.000015</td>\n",
       "      <td>0.507431</td>\n",
       "      <td>0.492554</td>\n",
       "    </tr>\n",
       "    <tr>\n",
       "      <th>4</th>\n",
       "      <td>4</td>\n",
       "      <td>4</td>\n",
       "      <td>Book one of the New York Times-bestselling All...</td>\n",
       "      <td>2011</td>\n",
       "      <td>0.000015</td>\n",
       "      <td>0.183809</td>\n",
       "      <td>0.816176</td>\n",
       "    </tr>\n",
       "  </tbody>\n",
       "</table>\n",
       "</div>"
      ],
      "text/plain": [
       "   index  Unnamed: 0                                               Text  Year  \\\n",
       "0      0           0  From Caldecott Honor artist Melissa Sweet come...  2011   \n",
       "1      1           1  From a New York Times bestselling and Hugo awa...  2011   \n",
       "2      2           2  A masterpiece of postwar Polish literature, St...  2011   \n",
       "3      3           3  From the #1 New York Times-bestselling author ...  2011   \n",
       "4      4           4  Book one of the New York Times-bestselling All...  2011   \n",
       "\n",
       "     topic0    topic1    topic2  \n",
       "0  0.927162  0.072820  0.000018  \n",
       "1  0.000022  0.033485  0.966493  \n",
       "2  0.123182  0.876799  0.000019  \n",
       "3  0.000015  0.507431  0.492554  \n",
       "4  0.000015  0.183809  0.816176  "
      ]
     },
     "execution_count": 330,
     "metadata": {},
     "output_type": "execute_result"
    }
   ],
   "source": [
    "topic_weights = pd.DataFrame([ldaseq.doc_topics(j) for j in range(len(bow_corpus))],\n",
    "                             columns=['topic0', 'topic1', 'topic2'])\n",
    "df = DTM.reset_index() \\\n",
    "            .merge(topic_weights,\n",
    "                   left_index=True,\n",
    "                   right_index=True)\n",
    "df.head()"
   ]
  },
  {
   "cell_type": "code",
   "execution_count": 334,
   "metadata": {},
   "outputs": [
    {
     "data": {
      "image/png": "[encoded data removed]",
      "text/plain": [
       "<Figure size 432x288 with 1 Axes>"
      ]
     },
     "metadata": {
      "needs_background": "light"
     },
     "output_type": "display_data"
    }
   ],
   "source": [
    "cols = ['Year', 'topic0', 'topic1', 'topic2']\n",
    "df[cols].groupby(['Year'])\\\n",
    "                  .mean() \\\n",
    "                  .plot();"
   ]
  }
 ],
 "metadata": {
  "kernelspec": {
   "display_name": "Python 3 (ipykernel)",
   "language": "python",
   "name": "python3"
  },
  "language_info": {
   "codemirror_mode": {
    "name": "ipython",
    "version": 3
   },
   "file_extension": ".py",
   "mimetype": "text/x-python",
   "name": "python",
   "nbconvert_exporter": "python",
   "pygments_lexer": "ipython3",
   "version": "3.9.6"
  }
 },
 "nbformat": 4,
 "nbformat_minor": 4
}
